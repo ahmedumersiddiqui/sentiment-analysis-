{
 "cells": [
  {
   "cell_type": "code",
   "execution_count": 2,
   "metadata": {
    "_cell_guid": "b1076dfc-b9ad-4769-8c92-a6c4dae69d19",
    "_uuid": "8f2839f25d086af736a60e9eeb907d3b93b6e0e5",
    "execution": {
     "iopub.execute_input": "2023-12-27T18:26:40.358686Z",
     "iopub.status.busy": "2023-12-27T18:26:40.358343Z",
     "iopub.status.idle": "2023-12-27T18:26:40.868977Z",
     "shell.execute_reply": "2023-12-27T18:26:40.867997Z",
     "shell.execute_reply.started": "2023-12-27T18:26:40.358658Z"
    }
   },
   "outputs": [
    {
     "data": {
      "text/html": [
       "<div>\n",
       "<style scoped>\n",
       "    .dataframe tbody tr th:only-of-type {\n",
       "        vertical-align: middle;\n",
       "    }\n",
       "\n",
       "    .dataframe tbody tr th {\n",
       "        vertical-align: top;\n",
       "    }\n",
       "\n",
       "    .dataframe thead th {\n",
       "        text-align: right;\n",
       "    }\n",
       "</style>\n",
       "<table border=\"1\" class=\"dataframe\">\n",
       "  <thead>\n",
       "    <tr style=\"text-align: right;\">\n",
       "      <th></th>\n",
       "      <th>Reviews</th>\n",
       "      <th>Sentiments</th>\n",
       "    </tr>\n",
       "  </thead>\n",
       "  <tbody>\n",
       "    <tr>\n",
       "      <th>0</th>\n",
       "      <td>Sai kha ya her kisi kay bus ki bat nhi hai lak...</td>\n",
       "      <td>Positive</td>\n",
       "    </tr>\n",
       "    <tr>\n",
       "      <th>1</th>\n",
       "      <td>sahi bt h</td>\n",
       "      <td>Positive</td>\n",
       "    </tr>\n",
       "    <tr>\n",
       "      <th>2</th>\n",
       "      <td>Kya bt hai,</td>\n",
       "      <td>Positive</td>\n",
       "    </tr>\n",
       "    <tr>\n",
       "      <th>3</th>\n",
       "      <td>Wah je wah</td>\n",
       "      <td>Positive</td>\n",
       "    </tr>\n",
       "    <tr>\n",
       "      <th>4</th>\n",
       "      <td>Are wha kaya bat hai</td>\n",
       "      <td>Positive</td>\n",
       "    </tr>\n",
       "    <tr>\n",
       "      <th>...</th>\n",
       "      <td>...</td>\n",
       "      <td>...</td>\n",
       "    </tr>\n",
       "    <tr>\n",
       "      <th>34163</th>\n",
       "      <td>very nice bhook lagne lagi biryani ko dakh k</td>\n",
       "      <td>Positive</td>\n",
       "    </tr>\n",
       "    <tr>\n",
       "      <th>34164</th>\n",
       "      <td>koi bna dy.........fishh</td>\n",
       "      <td>Neutral</td>\n",
       "    </tr>\n",
       "    <tr>\n",
       "      <th>34165</th>\n",
       "      <td>bi kha k tu dkho bht mazy ki hoti h</td>\n",
       "      <td>Positive</td>\n",
       "    </tr>\n",
       "    <tr>\n",
       "      <th>34166</th>\n",
       "      <td>Try ki hai but pata nhi kiu I just don't like ...</td>\n",
       "      <td>Negative</td>\n",
       "    </tr>\n",
       "    <tr>\n",
       "      <th>34167</th>\n",
       "      <td>tu phir ap dher sari protien se mehroom rahain...</td>\n",
       "      <td>Negative</td>\n",
       "    </tr>\n",
       "  </tbody>\n",
       "</table>\n",
       "<p>34168 rows × 2 columns</p>\n",
       "</div>"
      ],
      "text/plain": [
       "                                                 Reviews Sentiments\n",
       "0      Sai kha ya her kisi kay bus ki bat nhi hai lak...   Positive\n",
       "1                                              sahi bt h   Positive\n",
       "2                                            Kya bt hai,   Positive\n",
       "3                                             Wah je wah   Positive\n",
       "4                                   Are wha kaya bat hai   Positive\n",
       "...                                                  ...        ...\n",
       "34163       very nice bhook lagne lagi biryani ko dakh k   Positive\n",
       "34164                           koi bna dy.........fishh    Neutral\n",
       "34165                bi kha k tu dkho bht mazy ki hoti h   Positive\n",
       "34166  Try ki hai but pata nhi kiu I just don't like ...   Negative\n",
       "34167  tu phir ap dher sari protien se mehroom rahain...   Negative\n",
       "\n",
       "[34168 rows x 2 columns]"
      ]
     },
     "execution_count": 2,
     "metadata": {},
     "output_type": "execute_result"
    }
   ],
   "source": [
    "import pandas as pd\n",
    "df = pd.read_csv('/kaggle/input/rydataa/Data.csv', header=0)\n",
    "df"
   ]
  },
  {
   "cell_type": "code",
   "execution_count": 3,
   "metadata": {
    "execution": {
     "iopub.execute_input": "2023-12-27T18:26:42.118541Z",
     "iopub.status.busy": "2023-12-27T18:26:42.117711Z",
     "iopub.status.idle": "2023-12-27T18:26:42.135008Z",
     "shell.execute_reply": "2023-12-27T18:26:42.134128Z",
     "shell.execute_reply.started": "2023-12-27T18:26:42.118506Z"
    }
   },
   "outputs": [
    {
     "data": {
      "text/html": [
       "<div>\n",
       "<style scoped>\n",
       "    .dataframe tbody tr th:only-of-type {\n",
       "        vertical-align: middle;\n",
       "    }\n",
       "\n",
       "    .dataframe tbody tr th {\n",
       "        vertical-align: top;\n",
       "    }\n",
       "\n",
       "    .dataframe thead th {\n",
       "        text-align: right;\n",
       "    }\n",
       "</style>\n",
       "<table border=\"1\" class=\"dataframe\">\n",
       "  <thead>\n",
       "    <tr style=\"text-align: right;\">\n",
       "      <th></th>\n",
       "      <th>Reviews</th>\n",
       "      <th>Sentiments</th>\n",
       "    </tr>\n",
       "  </thead>\n",
       "  <tbody>\n",
       "    <tr>\n",
       "      <th>13277</th>\n",
       "      <td>product achi hai but wrong waist size send kar...</td>\n",
       "      <td>Neative</td>\n",
       "    </tr>\n",
       "  </tbody>\n",
       "</table>\n",
       "</div>"
      ],
      "text/plain": [
       "                                                 Reviews Sentiments\n",
       "13277  product achi hai but wrong waist size send kar...    Neative"
      ]
     },
     "execution_count": 3,
     "metadata": {},
     "output_type": "execute_result"
    }
   ],
   "source": [
    "df[df['Sentiments'] == 'Neative']"
   ]
  },
  {
   "cell_type": "code",
   "execution_count": 4,
   "metadata": {
    "execution": {
     "iopub.execute_input": "2023-12-27T18:26:42.860359Z",
     "iopub.status.busy": "2023-12-27T18:26:42.860003Z",
     "iopub.status.idle": "2023-12-27T18:26:42.870702Z",
     "shell.execute_reply": "2023-12-27T18:26:42.869815Z",
     "shell.execute_reply.started": "2023-12-27T18:26:42.860329Z"
    }
   },
   "outputs": [],
   "source": [
    "df.loc[df['Sentiments']=='Neative', 'Sentiments'] = 'Negative'"
   ]
  },
  {
   "cell_type": "code",
   "execution_count": 5,
   "metadata": {
    "execution": {
     "iopub.execute_input": "2023-12-27T18:26:44.027256Z",
     "iopub.status.busy": "2023-12-27T18:26:44.026863Z",
     "iopub.status.idle": "2023-12-27T18:26:44.041790Z",
     "shell.execute_reply": "2023-12-27T18:26:44.040661Z",
     "shell.execute_reply.started": "2023-12-27T18:26:44.027224Z"
    }
   },
   "outputs": [
    {
     "name": "stdout",
     "output_type": "stream",
     "text": [
      "NaN values per column:\n",
      "Reviews       2\n",
      "Sentiments    9\n",
      "dtype: int64\n"
     ]
    }
   ],
   "source": [
    "nan_values = df.isna().sum()\n",
    "\n",
    "# Print the number of NaN values for each column\n",
    "print(\"NaN values per column:\")\n",
    "print(nan_values)"
   ]
  },
  {
   "cell_type": "code",
   "execution_count": 6,
   "metadata": {
    "execution": {
     "iopub.execute_input": "2023-12-27T18:26:45.031550Z",
     "iopub.status.busy": "2023-12-27T18:26:45.030857Z",
     "iopub.status.idle": "2023-12-27T18:26:45.050195Z",
     "shell.execute_reply": "2023-12-27T18:26:45.049046Z",
     "shell.execute_reply.started": "2023-12-27T18:26:45.031517Z"
    }
   },
   "outputs": [],
   "source": [
    "df.dropna(subset=['Reviews', 'Sentiments'], inplace=True)"
   ]
  },
  {
   "cell_type": "code",
   "execution_count": 7,
   "metadata": {
    "execution": {
     "iopub.execute_input": "2023-12-27T18:26:45.756984Z",
     "iopub.status.busy": "2023-12-27T18:26:45.756129Z",
     "iopub.status.idle": "2023-12-27T18:26:45.775882Z",
     "shell.execute_reply": "2023-12-27T18:26:45.774921Z",
     "shell.execute_reply.started": "2023-12-27T18:26:45.756950Z"
    }
   },
   "outputs": [
    {
     "data": {
      "text/html": [
       "<div>\n",
       "<style scoped>\n",
       "    .dataframe tbody tr th:only-of-type {\n",
       "        vertical-align: middle;\n",
       "    }\n",
       "\n",
       "    .dataframe tbody tr th {\n",
       "        vertical-align: top;\n",
       "    }\n",
       "\n",
       "    .dataframe thead th {\n",
       "        text-align: right;\n",
       "    }\n",
       "</style>\n",
       "<table border=\"1\" class=\"dataframe\">\n",
       "  <thead>\n",
       "    <tr style=\"text-align: right;\">\n",
       "      <th></th>\n",
       "      <th>Reviews</th>\n",
       "      <th>Sentiments</th>\n",
       "    </tr>\n",
       "  </thead>\n",
       "  <tbody>\n",
       "    <tr>\n",
       "      <th>0</th>\n",
       "      <td>Sai kha ya her kisi kay bus ki bat nhi hai lak...</td>\n",
       "      <td>2.0</td>\n",
       "    </tr>\n",
       "    <tr>\n",
       "      <th>1</th>\n",
       "      <td>sahi bt h</td>\n",
       "      <td>2.0</td>\n",
       "    </tr>\n",
       "    <tr>\n",
       "      <th>2</th>\n",
       "      <td>Kya bt hai,</td>\n",
       "      <td>2.0</td>\n",
       "    </tr>\n",
       "    <tr>\n",
       "      <th>3</th>\n",
       "      <td>Wah je wah</td>\n",
       "      <td>2.0</td>\n",
       "    </tr>\n",
       "    <tr>\n",
       "      <th>4</th>\n",
       "      <td>Are wha kaya bat hai</td>\n",
       "      <td>2.0</td>\n",
       "    </tr>\n",
       "    <tr>\n",
       "      <th>...</th>\n",
       "      <td>...</td>\n",
       "      <td>...</td>\n",
       "    </tr>\n",
       "    <tr>\n",
       "      <th>34163</th>\n",
       "      <td>very nice bhook lagne lagi biryani ko dakh k</td>\n",
       "      <td>2.0</td>\n",
       "    </tr>\n",
       "    <tr>\n",
       "      <th>34164</th>\n",
       "      <td>koi bna dy.........fishh</td>\n",
       "      <td>1.0</td>\n",
       "    </tr>\n",
       "    <tr>\n",
       "      <th>34165</th>\n",
       "      <td>bi kha k tu dkho bht mazy ki hoti h</td>\n",
       "      <td>2.0</td>\n",
       "    </tr>\n",
       "    <tr>\n",
       "      <th>34166</th>\n",
       "      <td>Try ki hai but pata nhi kiu I just don't like ...</td>\n",
       "      <td>0.0</td>\n",
       "    </tr>\n",
       "    <tr>\n",
       "      <th>34167</th>\n",
       "      <td>tu phir ap dher sari protien se mehroom rahain...</td>\n",
       "      <td>0.0</td>\n",
       "    </tr>\n",
       "  </tbody>\n",
       "</table>\n",
       "<p>34157 rows × 2 columns</p>\n",
       "</div>"
      ],
      "text/plain": [
       "                                                 Reviews  Sentiments\n",
       "0      Sai kha ya her kisi kay bus ki bat nhi hai lak...         2.0\n",
       "1                                              sahi bt h         2.0\n",
       "2                                            Kya bt hai,         2.0\n",
       "3                                             Wah je wah         2.0\n",
       "4                                   Are wha kaya bat hai         2.0\n",
       "...                                                  ...         ...\n",
       "34163       very nice bhook lagne lagi biryani ko dakh k         2.0\n",
       "34164                           koi bna dy.........fishh         1.0\n",
       "34165                bi kha k tu dkho bht mazy ki hoti h         2.0\n",
       "34166  Try ki hai but pata nhi kiu I just don't like ...         0.0\n",
       "34167  tu phir ap dher sari protien se mehroom rahain...         0.0\n",
       "\n",
       "[34157 rows x 2 columns]"
      ]
     },
     "execution_count": 7,
     "metadata": {},
     "output_type": "execute_result"
    }
   ],
   "source": [
    "# Mapping labels to integers\n",
    "label_mapping = {'Negative': 0, 'Neutral': 1, 'Positive': 2}\n",
    "df['Sentiments'] = df['Sentiments'].map(label_mapping)\n",
    "df"
   ]
  },
  {
   "cell_type": "code",
   "execution_count": 8,
   "metadata": {
    "execution": {
     "iopub.execute_input": "2023-12-27T18:26:46.769539Z",
     "iopub.status.busy": "2023-12-27T18:26:46.769194Z",
     "iopub.status.idle": "2023-12-27T18:26:46.782100Z",
     "shell.execute_reply": "2023-12-27T18:26:46.781112Z",
     "shell.execute_reply.started": "2023-12-27T18:26:46.769509Z"
    }
   },
   "outputs": [],
   "source": [
    "df.dropna(subset=['Reviews', 'Sentiments'], inplace=True)"
   ]
  },
  {
   "cell_type": "code",
   "execution_count": 9,
   "metadata": {
    "execution": {
     "iopub.execute_input": "2023-12-27T18:26:48.876191Z",
     "iopub.status.busy": "2023-12-27T18:26:48.875835Z",
     "iopub.status.idle": "2023-12-27T18:27:36.239343Z",
     "shell.execute_reply": "2023-12-27T18:27:36.238166Z",
     "shell.execute_reply.started": "2023-12-27T18:26:48.876160Z"
    }
   },
   "outputs": [
    {
     "name": "stderr",
     "output_type": "stream",
     "text": [
      "/opt/conda/lib/python3.10/site-packages/scipy/__init__.py:146: UserWarning: A NumPy version >=1.16.5 and <1.23.0 is required for this version of SciPy (detected version 1.24.3\n",
      "  warnings.warn(f\"A NumPy version >={np_minversion} and <{np_maxversion}\"\n"
     ]
    },
    {
     "data": {
      "application/vnd.jupyter.widget-view+json": {
       "model_id": "1dca138db6884c9c8da5269383ca4504",
       "version_major": 2,
       "version_minor": 0
      },
      "text/plain": [
       "tokenizer_config.json:   0%|          | 0.00/28.0 [00:00<?, ?B/s]"
      ]
     },
     "metadata": {},
     "output_type": "display_data"
    },
    {
     "data": {
      "application/vnd.jupyter.widget-view+json": {
       "model_id": "c311beaaa2924e6da9e2cf08001ab24c",
       "version_major": 2,
       "version_minor": 0
      },
      "text/plain": [
       "vocab.txt:   0%|          | 0.00/232k [00:00<?, ?B/s]"
      ]
     },
     "metadata": {},
     "output_type": "display_data"
    },
    {
     "data": {
      "application/vnd.jupyter.widget-view+json": {
       "model_id": "f3535920ecaf4f67ae04d00bfe6d250c",
       "version_major": 2,
       "version_minor": 0
      },
      "text/plain": [
       "tokenizer.json:   0%|          | 0.00/466k [00:00<?, ?B/s]"
      ]
     },
     "metadata": {},
     "output_type": "display_data"
    },
    {
     "data": {
      "application/vnd.jupyter.widget-view+json": {
       "model_id": "ce8b1495c8674f32b551839ae897c947",
       "version_major": 2,
       "version_minor": 0
      },
      "text/plain": [
       "config.json:   0%|          | 0.00/483 [00:00<?, ?B/s]"
      ]
     },
     "metadata": {},
     "output_type": "display_data"
    }
   ],
   "source": [
    "import pandas as pd\n",
    "import tensorflow as tf\n",
    "from transformers import DistilBertTokenizer \n",
    "from sklearn.model_selection import train_test_split\n",
    "from sklearn.metrics import classification_report\n",
    "from tensorflow.keras.models import Sequential\n",
    "from tensorflow.keras.layers import Embedding, LSTM, Dense, SpatialDropout1D\n",
    "\n",
    "# Tokenization using DistilBERT\n",
    "tokenizer = DistilBertTokenizer.from_pretrained('distilbert-base-uncased')\n",
    "\n",
    "# Convert the text column to a list of strings\n",
    "text_list = df['Reviews'].astype(str).tolist()\n",
    "\n",
    "# Tokenize the text\n",
    "encoded_texts = tokenizer(text_list, padding=True, truncation=True, return_tensors='tf')\n",
    "\n",
    "# Convert the 'input_ids' tensor to a NumPy array\n",
    "X = encoded_texts['input_ids'].numpy()\n",
    "\n",
    "# Split the dataset into training and testing sets\n",
    "X_train, X_test, y_train, y_test = train_test_split(X, df['Sentiments'], test_size=0.2, random_state=42)\n"
   ]
  },
  {
   "cell_type": "code",
   "execution_count": 18,
   "metadata": {
    "execution": {
     "iopub.execute_input": "2023-12-27T18:34:56.319299Z",
     "iopub.status.busy": "2023-12-27T18:34:56.318958Z",
     "iopub.status.idle": "2023-12-27T18:34:56.325034Z",
     "shell.execute_reply": "2023-12-27T18:34:56.324110Z",
     "shell.execute_reply.started": "2023-12-27T18:34:56.319274Z"
    }
   },
   "outputs": [],
   "source": [
    "import tensorflow as tf\n",
    "from tensorflow.keras.models import Sequential\n",
    "from tensorflow.keras.layers import Embedding, LSTM, Dense, SpatialDropout1D, Bidirectional, Dropout\n",
    "from sklearn.model_selection import train_test_split\n",
    "from transformers import DistilBertTokenizer\n",
    "import tensorflow as tf\n",
    "from tensorflow.keras.models import Sequential\n",
    "from tensorflow.keras.layers import Embedding, LSTM, Dense, SpatialDropout1D\n",
    "from sklearn.model_selection import train_test_split\n",
    "from transformers import DistilBertTokenizer"
   ]
  },
  {
   "cell_type": "code",
   "execution_count": 21,
   "metadata": {
    "execution": {
     "iopub.execute_input": "2023-12-27T18:54:17.830996Z",
     "iopub.status.busy": "2023-12-27T18:54:17.829992Z",
     "iopub.status.idle": "2023-12-27T20:10:35.347927Z",
     "shell.execute_reply": "2023-12-27T20:10:35.346950Z",
     "shell.execute_reply.started": "2023-12-27T18:54:17.830960Z"
    }
   },
   "outputs": [
    {
     "name": "stdout",
     "output_type": "stream",
     "text": [
      "Model: \"sequential_5\"\n",
      "_________________________________________________________________\n",
      " Layer (type)                Output Shape              Param #   \n",
      "=================================================================\n",
      " embedding_5 (Embedding)     (None, 512, 32)           976704    \n",
      "                                                                 \n",
      " spatial_dropout1d_5 (Spati  (None, 512, 32)           0         \n",
      " alDropout1D)                                                    \n",
      "                                                                 \n",
      " bidirectional_6 (Bidirecti  (None, 512, 256)          164864    \n",
      " onal)                                                           \n",
      "                                                                 \n",
      " bidirectional_7 (Bidirecti  (None, 128)               164352    \n",
      " onal)                                                           \n",
      "                                                                 \n",
      " dropout_1 (Dropout)         (None, 128)               0         \n",
      "                                                                 \n",
      " dense_2 (Dense)             (None, 64)                8256      \n",
      "                                                                 \n",
      " dense_3 (Dense)             (None, 3)                 195       \n",
      "                                                                 \n",
      "=================================================================\n",
      "Total params: 1314371 (5.01 MB)\n",
      "Trainable params: 1314371 (5.01 MB)\n",
      "Non-trainable params: 0 (0.00 Byte)\n",
      "_________________________________________________________________\n",
      "Epoch 1/50\n",
      "854/854 [==============================] - 124s 138ms/step - loss: 0.9313 - accuracy: 0.5560 - val_loss: 0.8562 - val_accuracy: 0.6163\n",
      "Epoch 2/50\n",
      "854/854 [==============================] - 94s 110ms/step - loss: 0.7835 - accuracy: 0.6607 - val_loss: 0.8294 - val_accuracy: 0.6254\n",
      "Epoch 3/50\n",
      "854/854 [==============================] - 92s 108ms/step - loss: 0.7200 - accuracy: 0.6979 - val_loss: 0.8612 - val_accuracy: 0.6228\n",
      "Epoch 4/50\n",
      "854/854 [==============================] - 92s 107ms/step - loss: 0.6704 - accuracy: 0.7245 - val_loss: 0.8512 - val_accuracy: 0.6244\n",
      "Epoch 5/50\n",
      "854/854 [==============================] - 91s 107ms/step - loss: 0.6238 - accuracy: 0.7480 - val_loss: 0.8998 - val_accuracy: 0.6235\n",
      "Epoch 6/50\n",
      "854/854 [==============================] - 91s 106ms/step - loss: 0.5791 - accuracy: 0.7708 - val_loss: 0.9263 - val_accuracy: 0.6266\n",
      "Epoch 7/50\n",
      "854/854 [==============================] - 90s 106ms/step - loss: 0.5324 - accuracy: 0.7877 - val_loss: 0.9414 - val_accuracy: 0.6196\n",
      "Epoch 8/50\n",
      "854/854 [==============================] - 91s 107ms/step - loss: 0.4926 - accuracy: 0.8068 - val_loss: 1.0544 - val_accuracy: 0.6237\n",
      "Epoch 9/50\n",
      "854/854 [==============================] - 91s 107ms/step - loss: 0.4571 - accuracy: 0.8197 - val_loss: 1.0660 - val_accuracy: 0.6049\n",
      "Epoch 10/50\n",
      "854/854 [==============================] - 91s 107ms/step - loss: 0.4242 - accuracy: 0.8330 - val_loss: 1.1493 - val_accuracy: 0.6112\n",
      "Epoch 11/50\n",
      "854/854 [==============================] - 91s 107ms/step - loss: 0.3963 - accuracy: 0.8443 - val_loss: 1.1967 - val_accuracy: 0.6077\n",
      "Epoch 12/50\n",
      "854/854 [==============================] - 90s 106ms/step - loss: 0.3735 - accuracy: 0.8543 - val_loss: 1.2848 - val_accuracy: 0.6043\n",
      "Epoch 13/50\n",
      "854/854 [==============================] - 91s 106ms/step - loss: 0.3473 - accuracy: 0.8619 - val_loss: 1.3445 - val_accuracy: 0.6007\n",
      "Epoch 14/50\n",
      "854/854 [==============================] - 90s 106ms/step - loss: 0.3319 - accuracy: 0.8719 - val_loss: 1.3089 - val_accuracy: 0.6007\n",
      "Epoch 15/50\n",
      "854/854 [==============================] - 91s 106ms/step - loss: 0.3128 - accuracy: 0.8785 - val_loss: 1.4334 - val_accuracy: 0.6076\n",
      "Epoch 16/50\n",
      "854/854 [==============================] - 91s 107ms/step - loss: 0.3002 - accuracy: 0.8835 - val_loss: 1.5282 - val_accuracy: 0.6005\n",
      "Epoch 17/50\n",
      "854/854 [==============================] - 90s 106ms/step - loss: 0.2861 - accuracy: 0.8888 - val_loss: 1.5241 - val_accuracy: 0.5988\n",
      "Epoch 18/50\n",
      "854/854 [==============================] - 90s 106ms/step - loss: 0.2702 - accuracy: 0.8965 - val_loss: 1.5698 - val_accuracy: 0.5906\n",
      "Epoch 19/50\n",
      "854/854 [==============================] - 90s 106ms/step - loss: 0.2603 - accuracy: 0.8994 - val_loss: 1.7294 - val_accuracy: 0.6059\n",
      "Epoch 20/50\n",
      "854/854 [==============================] - 91s 106ms/step - loss: 0.2531 - accuracy: 0.9023 - val_loss: 1.6589 - val_accuracy: 0.6011\n",
      "Epoch 21/50\n",
      "854/854 [==============================] - 91s 106ms/step - loss: 0.2377 - accuracy: 0.9086 - val_loss: 1.8292 - val_accuracy: 0.5982\n",
      "Epoch 22/50\n",
      "854/854 [==============================] - 90s 105ms/step - loss: 0.2338 - accuracy: 0.9110 - val_loss: 1.8106 - val_accuracy: 0.5953\n",
      "Epoch 23/50\n",
      "854/854 [==============================] - 91s 106ms/step - loss: 0.2229 - accuracy: 0.9134 - val_loss: 1.8269 - val_accuracy: 0.5992\n",
      "Epoch 24/50\n",
      "854/854 [==============================] - 91s 106ms/step - loss: 0.2139 - accuracy: 0.9174 - val_loss: 1.7534 - val_accuracy: 0.5969\n",
      "Epoch 25/50\n",
      "854/854 [==============================] - 91s 106ms/step - loss: 0.2041 - accuracy: 0.9246 - val_loss: 1.8412 - val_accuracy: 0.5935\n",
      "Epoch 26/50\n",
      "854/854 [==============================] - 91s 106ms/step - loss: 0.2034 - accuracy: 0.9228 - val_loss: 1.9295 - val_accuracy: 0.5976\n",
      "Epoch 27/50\n",
      "854/854 [==============================] - 91s 106ms/step - loss: 0.1915 - accuracy: 0.9274 - val_loss: 1.9382 - val_accuracy: 0.5873\n",
      "Epoch 28/50\n",
      "854/854 [==============================] - 91s 107ms/step - loss: 0.1901 - accuracy: 0.9267 - val_loss: 1.7908 - val_accuracy: 0.5995\n",
      "Epoch 29/50\n",
      "854/854 [==============================] - 91s 106ms/step - loss: 0.1811 - accuracy: 0.9312 - val_loss: 1.9142 - val_accuracy: 0.5953\n",
      "Epoch 30/50\n",
      "854/854 [==============================] - 91s 107ms/step - loss: 0.1737 - accuracy: 0.9342 - val_loss: 2.0532 - val_accuracy: 0.5955\n",
      "Epoch 31/50\n",
      "854/854 [==============================] - 90s 106ms/step - loss: 0.1649 - accuracy: 0.9379 - val_loss: 2.0188 - val_accuracy: 0.5856\n",
      "Epoch 32/50\n",
      "854/854 [==============================] - 91s 106ms/step - loss: 0.1623 - accuracy: 0.9401 - val_loss: 1.8950 - val_accuracy: 0.5868\n",
      "Epoch 33/50\n",
      "854/854 [==============================] - 91s 106ms/step - loss: 0.1582 - accuracy: 0.9407 - val_loss: 2.1255 - val_accuracy: 0.5957\n",
      "Epoch 34/50\n",
      "854/854 [==============================] - 91s 106ms/step - loss: 0.1522 - accuracy: 0.9421 - val_loss: 2.0813 - val_accuracy: 0.5894\n",
      "Epoch 35/50\n",
      "854/854 [==============================] - 91s 106ms/step - loss: 0.1486 - accuracy: 0.9440 - val_loss: 2.2834 - val_accuracy: 0.5821\n",
      "Epoch 36/50\n",
      "854/854 [==============================] - 91s 106ms/step - loss: 0.1466 - accuracy: 0.9460 - val_loss: 2.1596 - val_accuracy: 0.5917\n",
      "Epoch 37/50\n",
      "854/854 [==============================] - 91s 106ms/step - loss: 0.1407 - accuracy: 0.9477 - val_loss: 1.9669 - val_accuracy: 0.5954\n",
      "Epoch 38/50\n",
      "854/854 [==============================] - 91s 106ms/step - loss: 0.1330 - accuracy: 0.9513 - val_loss: 2.2530 - val_accuracy: 0.5920\n",
      "Epoch 39/50\n",
      "854/854 [==============================] - 91s 106ms/step - loss: 0.1286 - accuracy: 0.9526 - val_loss: 2.1925 - val_accuracy: 0.5926\n",
      "Epoch 40/50\n",
      "854/854 [==============================] - 91s 106ms/step - loss: 0.1272 - accuracy: 0.9538 - val_loss: 2.3109 - val_accuracy: 0.5955\n",
      "Epoch 41/50\n",
      "854/854 [==============================] - 91s 107ms/step - loss: 0.1194 - accuracy: 0.9563 - val_loss: 2.2458 - val_accuracy: 0.5928\n",
      "Epoch 42/50\n",
      "854/854 [==============================] - 91s 106ms/step - loss: 0.1202 - accuracy: 0.9563 - val_loss: 2.2589 - val_accuracy: 0.5932\n",
      "Epoch 43/50\n",
      "854/854 [==============================] - 90s 106ms/step - loss: 0.1175 - accuracy: 0.9565 - val_loss: 2.2260 - val_accuracy: 0.5890\n",
      "Epoch 44/50\n",
      "854/854 [==============================] - 91s 106ms/step - loss: 0.1117 - accuracy: 0.9589 - val_loss: 2.3855 - val_accuracy: 0.5917\n",
      "Epoch 45/50\n",
      "854/854 [==============================] - 91s 106ms/step - loss: 0.1062 - accuracy: 0.9612 - val_loss: 2.4165 - val_accuracy: 0.5913\n",
      "Epoch 46/50\n",
      "854/854 [==============================] - 91s 106ms/step - loss: 0.1053 - accuracy: 0.9613 - val_loss: 2.3380 - val_accuracy: 0.5914\n",
      "Epoch 47/50\n",
      "854/854 [==============================] - 91s 107ms/step - loss: 0.0985 - accuracy: 0.9639 - val_loss: 2.4222 - val_accuracy: 0.5869\n",
      "Epoch 48/50\n",
      "854/854 [==============================] - 91s 107ms/step - loss: 0.1011 - accuracy: 0.9623 - val_loss: 2.3727 - val_accuracy: 0.5895\n",
      "Epoch 49/50\n",
      "854/854 [==============================] - 91s 106ms/step - loss: 0.0990 - accuracy: 0.9649 - val_loss: 2.4514 - val_accuracy: 0.5888\n",
      "Epoch 50/50\n",
      "854/854 [==============================] - 90s 106ms/step - loss: 0.0950 - accuracy: 0.9648 - val_loss: 2.5170 - val_accuracy: 0.5951\n"
     ]
    }
   ],
   "source": [
    "\n",
    "\n",
    "\n",
    "model = Sequential()\n",
    "model.add(Embedding(input_dim=len(tokenizer.get_vocab()), output_dim=32, input_length=X.shape[1]))\n",
    "model.add(SpatialDropout1D(0.2))\n",
    "model.add(Bidirectional(LSTM(128, return_sequences=True)))\n",
    "model.add(Bidirectional(LSTM(64)))\n",
    "model.add(Dropout(0.5))\n",
    "model.add(Dense(64, activation='relu'))\n",
    "model.add(Dense(3, activation='softmax'))  # Assuming 3 classes (Negative, Neutral, Positive)\n",
    "\n",
    "# Compile the model\n",
    "model.compile(loss='sparse_categorical_crossentropy', optimizer='adam', metrics=['accuracy'])\n",
    "\n",
    "# Print a summary of the model architecture\n",
    "model.summary()\n",
    "\n",
    "# Train the model\n",
    "history = model.fit(X_train, y_train, epochs=50, batch_size=32, validation_data=(X_test, y_test))"
   ]
  },
  {
   "cell_type": "code",
   "execution_count": 22,
   "metadata": {
    "execution": {
     "iopub.execute_input": "2023-12-27T20:44:04.465481Z",
     "iopub.status.busy": "2023-12-27T20:44:04.465028Z",
     "iopub.status.idle": "2023-12-27T20:44:14.125638Z",
     "shell.execute_reply": "2023-12-27T20:44:14.124687Z",
     "shell.execute_reply.started": "2023-12-27T20:44:04.465449Z"
    }
   },
   "outputs": [
    {
     "name": "stdout",
     "output_type": "stream",
     "text": [
      "214/214 [==============================] - 10s 45ms/step - loss: 2.5170 - accuracy: 0.5951\n",
      "Test Accuracy: 59.51%\n"
     ]
    }
   ],
   "source": [
    "test_loss, test_accuracy = model.evaluate(X_test, y_test)\n",
    "print(f'Test Accuracy: {test_accuracy * 100:.2f}%')"
   ]
  },
  {
   "cell_type": "code",
   "execution_count": null,
   "metadata": {},
   "outputs": [],
   "source": []
  }
 ],
 "metadata": {
  "kaggle": {
   "accelerator": "gpu",
   "dataSources": [
    {
     "datasetId": 4229507,
     "sourceId": 7292396,
     "sourceType": "datasetVersion"
    }
   ],
   "dockerImageVersionId": 30627,
   "isGpuEnabled": true,
   "isInternetEnabled": true,
   "language": "python",
   "sourceType": "notebook"
  },
  "kernelspec": {
   "display_name": "Python 3 (ipykernel)",
   "language": "python",
   "name": "python3"
  },
  "language_info": {
   "codemirror_mode": {
    "name": "ipython",
    "version": 3
   },
   "file_extension": ".py",
   "mimetype": "text/x-python",
   "name": "python",
   "nbconvert_exporter": "python",
   "pygments_lexer": "ipython3",
   "version": "3.9.7"
  }
 },
 "nbformat": 4,
 "nbformat_minor": 4
}
