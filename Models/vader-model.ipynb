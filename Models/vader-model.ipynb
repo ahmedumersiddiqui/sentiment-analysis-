{
 "cells": [
  {
   "cell_type": "code",
   "execution_count": 15,
   "metadata": {
    "_cell_guid": "b1076dfc-b9ad-4769-8c92-a6c4dae69d19",
    "_uuid": "8f2839f25d086af736a60e9eeb907d3b93b6e0e5",
    "execution": {
     "iopub.execute_input": "2023-12-27T19:33:57.583112Z",
     "iopub.status.busy": "2023-12-27T19:33:57.582367Z",
     "iopub.status.idle": "2023-12-27T19:33:57.664698Z",
     "shell.execute_reply": "2023-12-27T19:33:57.663846Z",
     "shell.execute_reply.started": "2023-12-27T19:33:57.583078Z"
    }
   },
   "outputs": [
    {
     "data": {
      "text/html": [
       "<div>\n",
       "<style scoped>\n",
       "    .dataframe tbody tr th:only-of-type {\n",
       "        vertical-align: middle;\n",
       "    }\n",
       "\n",
       "    .dataframe tbody tr th {\n",
       "        vertical-align: top;\n",
       "    }\n",
       "\n",
       "    .dataframe thead th {\n",
       "        text-align: right;\n",
       "    }\n",
       "</style>\n",
       "<table border=\"1\" class=\"dataframe\">\n",
       "  <thead>\n",
       "    <tr style=\"text-align: right;\">\n",
       "      <th></th>\n",
       "      <th>Reviews</th>\n",
       "      <th>Sentiment</th>\n",
       "    </tr>\n",
       "  </thead>\n",
       "  <tbody>\n",
       "    <tr>\n",
       "      <th>0</th>\n",
       "      <td>Sai kha ya her kisi kay bus ki bat nhi hai lak...</td>\n",
       "      <td>Positive</td>\n",
       "    </tr>\n",
       "    <tr>\n",
       "      <th>1</th>\n",
       "      <td>sahi bt h</td>\n",
       "      <td>Positive</td>\n",
       "    </tr>\n",
       "    <tr>\n",
       "      <th>2</th>\n",
       "      <td>Kya bt hai,</td>\n",
       "      <td>Positive</td>\n",
       "    </tr>\n",
       "    <tr>\n",
       "      <th>3</th>\n",
       "      <td>Wah je wah</td>\n",
       "      <td>Positive</td>\n",
       "    </tr>\n",
       "    <tr>\n",
       "      <th>4</th>\n",
       "      <td>Are wha kaya bat hai</td>\n",
       "      <td>Positive</td>\n",
       "    </tr>\n",
       "    <tr>\n",
       "      <th>...</th>\n",
       "      <td>...</td>\n",
       "      <td>...</td>\n",
       "    </tr>\n",
       "    <tr>\n",
       "      <th>34163</th>\n",
       "      <td>very nice bhook lagne lagi biryani ko dakh k</td>\n",
       "      <td>Positive</td>\n",
       "    </tr>\n",
       "    <tr>\n",
       "      <th>34164</th>\n",
       "      <td>koi bna dy.........fishh</td>\n",
       "      <td>Neutral</td>\n",
       "    </tr>\n",
       "    <tr>\n",
       "      <th>34165</th>\n",
       "      <td>bi kha k tu dkho bht mazy ki hoti h</td>\n",
       "      <td>Positive</td>\n",
       "    </tr>\n",
       "    <tr>\n",
       "      <th>34166</th>\n",
       "      <td>Try ki hai but pata nhi kiu I just don't like ...</td>\n",
       "      <td>Negative</td>\n",
       "    </tr>\n",
       "    <tr>\n",
       "      <th>34167</th>\n",
       "      <td>tu phir ap dher sari protien se mehroom rahain...</td>\n",
       "      <td>Negative</td>\n",
       "    </tr>\n",
       "  </tbody>\n",
       "</table>\n",
       "<p>34168 rows × 2 columns</p>\n",
       "</div>"
      ],
      "text/plain": [
       "                                                 Reviews Sentiment\n",
       "0      Sai kha ya her kisi kay bus ki bat nhi hai lak...  Positive\n",
       "1                                              sahi bt h  Positive\n",
       "2                                            Kya bt hai,  Positive\n",
       "3                                             Wah je wah  Positive\n",
       "4                                   Are wha kaya bat hai  Positive\n",
       "...                                                  ...       ...\n",
       "34163       very nice bhook lagne lagi biryani ko dakh k  Positive\n",
       "34164                           koi bna dy.........fishh   Neutral\n",
       "34165                bi kha k tu dkho bht mazy ki hoti h  Positive\n",
       "34166  Try ki hai but pata nhi kiu I just don't like ...  Negative\n",
       "34167  tu phir ap dher sari protien se mehroom rahain...  Negative\n",
       "\n",
       "[34168 rows x 2 columns]"
      ]
     },
     "execution_count": 15,
     "metadata": {},
     "output_type": "execute_result"
    }
   ],
   "source": [
    "import pandas as pd\n",
    "df = pd.read_csv('/kaggle/input/romurdud/Data.csv', header=0)\n",
    "df"
   ]
  },
  {
   "cell_type": "code",
   "execution_count": 16,
   "metadata": {
    "execution": {
     "iopub.execute_input": "2023-12-27T19:33:58.741457Z",
     "iopub.status.busy": "2023-12-27T19:33:58.741103Z",
     "iopub.status.idle": "2023-12-27T19:33:58.756119Z",
     "shell.execute_reply": "2023-12-27T19:33:58.755158Z",
     "shell.execute_reply.started": "2023-12-27T19:33:58.741427Z"
    }
   },
   "outputs": [
    {
     "data": {
      "text/html": [
       "<div>\n",
       "<style scoped>\n",
       "    .dataframe tbody tr th:only-of-type {\n",
       "        vertical-align: middle;\n",
       "    }\n",
       "\n",
       "    .dataframe tbody tr th {\n",
       "        vertical-align: top;\n",
       "    }\n",
       "\n",
       "    .dataframe thead th {\n",
       "        text-align: right;\n",
       "    }\n",
       "</style>\n",
       "<table border=\"1\" class=\"dataframe\">\n",
       "  <thead>\n",
       "    <tr style=\"text-align: right;\">\n",
       "      <th></th>\n",
       "      <th>Reviews</th>\n",
       "      <th>Sentiment</th>\n",
       "    </tr>\n",
       "  </thead>\n",
       "  <tbody>\n",
       "    <tr>\n",
       "      <th>13277</th>\n",
       "      <td>product achi hai but wrong waist size send kar...</td>\n",
       "      <td>Neative</td>\n",
       "    </tr>\n",
       "  </tbody>\n",
       "</table>\n",
       "</div>"
      ],
      "text/plain": [
       "                                                 Reviews Sentiment\n",
       "13277  product achi hai but wrong waist size send kar...   Neative"
      ]
     },
     "execution_count": 16,
     "metadata": {},
     "output_type": "execute_result"
    }
   ],
   "source": [
    "df[df['Sentiment'] == 'Neative']"
   ]
  },
  {
   "cell_type": "code",
   "execution_count": 17,
   "metadata": {
    "execution": {
     "iopub.execute_input": "2023-12-27T19:33:59.662998Z",
     "iopub.status.busy": "2023-12-27T19:33:59.662357Z",
     "iopub.status.idle": "2023-12-27T19:33:59.673151Z",
     "shell.execute_reply": "2023-12-27T19:33:59.672190Z",
     "shell.execute_reply.started": "2023-12-27T19:33:59.662965Z"
    }
   },
   "outputs": [],
   "source": [
    "df.loc[df['Sentiment']=='Neative', 'Sentiment'] = 'Negative'"
   ]
  },
  {
   "cell_type": "code",
   "execution_count": 18,
   "metadata": {
    "execution": {
     "iopub.execute_input": "2023-12-27T19:34:04.485323Z",
     "iopub.status.busy": "2023-12-27T19:34:04.484439Z",
     "iopub.status.idle": "2023-12-27T19:34:04.497857Z",
     "shell.execute_reply": "2023-12-27T19:34:04.496901Z",
     "shell.execute_reply.started": "2023-12-27T19:34:04.485288Z"
    }
   },
   "outputs": [
    {
     "name": "stdout",
     "output_type": "stream",
     "text": [
      "NaN values per column:\n",
      "Reviews      2\n",
      "Sentiment    9\n",
      "dtype: int64\n"
     ]
    }
   ],
   "source": [
    "nan_values = df.isna().sum()\n",
    "\n",
    "# Print the number of NaN values for each column\n",
    "print(\"NaN values per column:\")\n",
    "print(nan_values)"
   ]
  },
  {
   "cell_type": "code",
   "execution_count": 19,
   "metadata": {
    "execution": {
     "iopub.execute_input": "2023-12-27T19:34:05.318344Z",
     "iopub.status.busy": "2023-12-27T19:34:05.317475Z",
     "iopub.status.idle": "2023-12-27T19:34:05.333367Z",
     "shell.execute_reply": "2023-12-27T19:34:05.332593Z",
     "shell.execute_reply.started": "2023-12-27T19:34:05.318301Z"
    }
   },
   "outputs": [],
   "source": [
    "df.dropna(subset=['Reviews', 'Sentiment'], inplace=True)"
   ]
  },
  {
   "cell_type": "code",
   "execution_count": 7,
   "metadata": {
    "execution": {
     "iopub.execute_input": "2023-12-27T19:28:12.693792Z",
     "iopub.status.busy": "2023-12-27T19:28:12.693401Z",
     "iopub.status.idle": "2023-12-27T19:28:12.707184Z",
     "shell.execute_reply": "2023-12-27T19:28:12.706184Z",
     "shell.execute_reply.started": "2023-12-27T19:28:12.693759Z"
    }
   },
   "outputs": [
    {
     "name": "stdout",
     "output_type": "stream",
     "text": [
      "NaN values per column:\n",
      "Reviews      0\n",
      "Sentiment    0\n",
      "dtype: int64\n"
     ]
    }
   ],
   "source": [
    "nan_values = df.isna().sum()\n",
    "\n",
    "# Print the number of NaN values for each column\n",
    "print(\"NaN values per column:\")\n",
    "print(nan_values)"
   ]
  },
  {
   "cell_type": "code",
   "execution_count": 23,
   "metadata": {
    "execution": {
     "iopub.execute_input": "2023-12-27T19:35:44.163214Z",
     "iopub.status.busy": "2023-12-27T19:35:44.162865Z",
     "iopub.status.idle": "2023-12-27T19:35:45.753244Z",
     "shell.execute_reply": "2023-12-27T19:35:45.752273Z",
     "shell.execute_reply.started": "2023-12-27T19:35:44.163188Z"
    }
   },
   "outputs": [
    {
     "name": "stdout",
     "output_type": "stream",
     "text": [
      "[nltk_data] Downloading package vader_lexicon to\n",
      "[nltk_data]     /usr/share/nltk_data...\n",
      "[nltk_data]   Package vader_lexicon is already up-to-date!\n",
      "Accuracy: 39.34%\n",
      "Classification Report:\n",
      "              precision    recall  f1-score   support\n",
      "\n",
      "    Negative       0.40      0.15      0.22      1810\n",
      "     Neutral       0.38      0.71      0.49      2499\n",
      "    Positive       0.45      0.25      0.32      2521\n",
      "          eg       0.00      0.00      0.00         1\n",
      "         nef       0.00      0.00      0.00         1\n",
      "\n",
      "    accuracy                           0.39      6832\n",
      "   macro avg       0.25      0.22      0.21      6832\n",
      "weighted avg       0.41      0.39      0.36      6832\n",
      "\n"
     ]
    },
    {
     "name": "stderr",
     "output_type": "stream",
     "text": [
      "/opt/conda/lib/python3.10/site-packages/sklearn/metrics/_classification.py:1344: UndefinedMetricWarning: Precision and F-score are ill-defined and being set to 0.0 in labels with no predicted samples. Use `zero_division` parameter to control this behavior.\n",
      "  _warn_prf(average, modifier, msg_start, len(result))\n",
      "/opt/conda/lib/python3.10/site-packages/sklearn/metrics/_classification.py:1344: UndefinedMetricWarning: Precision and F-score are ill-defined and being set to 0.0 in labels with no predicted samples. Use `zero_division` parameter to control this behavior.\n",
      "  _warn_prf(average, modifier, msg_start, len(result))\n",
      "/opt/conda/lib/python3.10/site-packages/sklearn/metrics/_classification.py:1344: UndefinedMetricWarning: Precision and F-score are ill-defined and being set to 0.0 in labels with no predicted samples. Use `zero_division` parameter to control this behavior.\n",
      "  _warn_prf(average, modifier, msg_start, len(result))\n"
     ]
    }
   ],
   "source": [
    "import nltk\n",
    "import pandas as pd\n",
    "from nltk.sentiment import SentimentIntensityAnalyzer\n",
    "from sklearn.metrics import accuracy_score, classification_report\n",
    "from sklearn.model_selection import train_test_split\n",
    "\n",
    "\n",
    "# Download VADER lexicon\n",
    "nltk.download('vader_lexicon')\n",
    "\n",
    "# Split the dataset into training and testing sets\n",
    "train_data, test_data = train_test_split(df, test_size=0.2, random_state=42)\n",
    "\n",
    "# Initialize VADER Sentiment Intensity Analyzer\n",
    "sid = SentimentIntensityAnalyzer()\n",
    "\n",
    "# Apply VADER to the text data\n",
    "test_data['vader_score'] = test_data['Reviews'].apply(lambda x: sid.polarity_scores(x)['compound'])\n",
    "\n",
    "# Convert the VADER scores to sentiment labels\n",
    "# Adjust thresholds for Positive, Negative, and Neutral based on your data\n",
    "thresholds = {'Negative': -0.2, 'Neutral': 0.2, 'Positive': 0.2}\n",
    "test_data['vader_pred'] = test_data['vader_score'].apply(lambda x: 'Negative' if x <= thresholds['Negative'] else ('Neutral' if x <= thresholds['Neutral'] else 'Positive'))\n",
    "\n",
    "# Evaluate the model on the test set\n",
    "test_labels = test_data['Sentiment'].tolist()\n",
    "vader_predictions = test_data['vader_pred'].tolist()\n",
    "\n",
    "# Calculate accuracy and print classification report\n",
    "accuracy = accuracy_score(test_labels, vader_predictions)\n",
    "print(f'Accuracy: {accuracy * 100:.2f}%')\n",
    "\n",
    "print(\"Classification Report:\")\n",
    "print(classification_report(test_labels, vader_predictions))\n"
   ]
  },
  {
   "cell_type": "code",
   "execution_count": null,
   "metadata": {},
   "outputs": [],
   "source": []
  }
 ],
 "metadata": {
  "kaggle": {
   "accelerator": "gpu",
   "dataSources": [
    {
     "datasetId": 4229323,
     "sourceId": 7292128,
     "sourceType": "datasetVersion"
    },
    {
     "datasetId": 4229646,
     "sourceId": 7292578,
     "sourceType": "datasetVersion"
    }
   ],
   "dockerImageVersionId": 30627,
   "isGpuEnabled": true,
   "isInternetEnabled": true,
   "language": "python",
   "sourceType": "notebook"
  },
  "kernelspec": {
   "display_name": "Python 3 (ipykernel)",
   "language": "python",
   "name": "python3"
  },
  "language_info": {
   "codemirror_mode": {
    "name": "ipython",
    "version": 3
   },
   "file_extension": ".py",
   "mimetype": "text/x-python",
   "name": "python",
   "nbconvert_exporter": "python",
   "pygments_lexer": "ipython3",
   "version": "3.9.7"
  }
 },
 "nbformat": 4,
 "nbformat_minor": 4
}
