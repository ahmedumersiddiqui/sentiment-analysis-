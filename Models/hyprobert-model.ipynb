{
 "cells": [
  {
   "cell_type": "code",
   "execution_count": 1,
   "metadata": {
    "_cell_guid": "b1076dfc-b9ad-4769-8c92-a6c4dae69d19",
    "_uuid": "8f2839f25d086af736a60e9eeb907d3b93b6e0e5",
    "execution": {
     "iopub.execute_input": "2023-12-27T17:23:52.006051Z",
     "iopub.status.busy": "2023-12-27T17:23:52.005764Z",
     "iopub.status.idle": "2023-12-27T17:23:52.506495Z",
     "shell.execute_reply": "2023-12-27T17:23:52.505362Z",
     "shell.execute_reply.started": "2023-12-27T17:23:52.006026Z"
    }
   },
   "outputs": [
    {
     "data": {
      "text/html": [
       "<div>\n",
       "<style scoped>\n",
       "    .dataframe tbody tr th:only-of-type {\n",
       "        vertical-align: middle;\n",
       "    }\n",
       "\n",
       "    .dataframe tbody tr th {\n",
       "        vertical-align: top;\n",
       "    }\n",
       "\n",
       "    .dataframe thead th {\n",
       "        text-align: right;\n",
       "    }\n",
       "</style>\n",
       "<table border=\"1\" class=\"dataframe\">\n",
       "  <thead>\n",
       "    <tr style=\"text-align: right;\">\n",
       "      <th></th>\n",
       "      <th>Reviews</th>\n",
       "      <th>Sentiments</th>\n",
       "    </tr>\n",
       "  </thead>\n",
       "  <tbody>\n",
       "    <tr>\n",
       "      <th>0</th>\n",
       "      <td>Sai kha ya her kisi kay bus ki bat nhi hai lak...</td>\n",
       "      <td>Positive</td>\n",
       "    </tr>\n",
       "    <tr>\n",
       "      <th>1</th>\n",
       "      <td>sahi bt h</td>\n",
       "      <td>Positive</td>\n",
       "    </tr>\n",
       "    <tr>\n",
       "      <th>2</th>\n",
       "      <td>Kya bt hai,</td>\n",
       "      <td>Positive</td>\n",
       "    </tr>\n",
       "    <tr>\n",
       "      <th>3</th>\n",
       "      <td>Wah je wah</td>\n",
       "      <td>Positive</td>\n",
       "    </tr>\n",
       "    <tr>\n",
       "      <th>4</th>\n",
       "      <td>Are wha kaya bat hai</td>\n",
       "      <td>Positive</td>\n",
       "    </tr>\n",
       "    <tr>\n",
       "      <th>...</th>\n",
       "      <td>...</td>\n",
       "      <td>...</td>\n",
       "    </tr>\n",
       "    <tr>\n",
       "      <th>34163</th>\n",
       "      <td>very nice bhook lagne lagi biryani ko dakh k</td>\n",
       "      <td>Positive</td>\n",
       "    </tr>\n",
       "    <tr>\n",
       "      <th>34164</th>\n",
       "      <td>koi bna dy.........fishh</td>\n",
       "      <td>Neutral</td>\n",
       "    </tr>\n",
       "    <tr>\n",
       "      <th>34165</th>\n",
       "      <td>bi kha k tu dkho bht mazy ki hoti h</td>\n",
       "      <td>Positive</td>\n",
       "    </tr>\n",
       "    <tr>\n",
       "      <th>34166</th>\n",
       "      <td>Try ki hai but pata nhi kiu I just don't like ...</td>\n",
       "      <td>Negative</td>\n",
       "    </tr>\n",
       "    <tr>\n",
       "      <th>34167</th>\n",
       "      <td>tu phir ap dher sari protien se mehroom rahain...</td>\n",
       "      <td>Negative</td>\n",
       "    </tr>\n",
       "  </tbody>\n",
       "</table>\n",
       "<p>34168 rows × 2 columns</p>\n",
       "</div>"
      ],
      "text/plain": [
       "                                                 Reviews Sentiments\n",
       "0      Sai kha ya her kisi kay bus ki bat nhi hai lak...   Positive\n",
       "1                                              sahi bt h   Positive\n",
       "2                                            Kya bt hai,   Positive\n",
       "3                                             Wah je wah   Positive\n",
       "4                                   Are wha kaya bat hai   Positive\n",
       "...                                                  ...        ...\n",
       "34163       very nice bhook lagne lagi biryani ko dakh k   Positive\n",
       "34164                           koi bna dy.........fishh    Neutral\n",
       "34165                bi kha k tu dkho bht mazy ki hoti h   Positive\n",
       "34166  Try ki hai but pata nhi kiu I just don't like ...   Negative\n",
       "34167  tu phir ap dher sari protien se mehroom rahain...   Negative\n",
       "\n",
       "[34168 rows x 2 columns]"
      ]
     },
     "execution_count": 1,
     "metadata": {},
     "output_type": "execute_result"
    }
   ],
   "source": [
    "import pandas as pd\n",
    "df = pd.read_csv('/kaggle/input/romdatududd/Data.csv', header=0)\n",
    "df"
   ]
  },
  {
   "cell_type": "code",
   "execution_count": 2,
   "metadata": {
    "execution": {
     "iopub.execute_input": "2023-12-27T17:24:01.096653Z",
     "iopub.status.busy": "2023-12-27T17:24:01.096308Z",
     "iopub.status.idle": "2023-12-27T17:24:01.116890Z",
     "shell.execute_reply": "2023-12-27T17:24:01.115669Z",
     "shell.execute_reply.started": "2023-12-27T17:24:01.096626Z"
    }
   },
   "outputs": [
    {
     "data": {
      "text/html": [
       "<div>\n",
       "<style scoped>\n",
       "    .dataframe tbody tr th:only-of-type {\n",
       "        vertical-align: middle;\n",
       "    }\n",
       "\n",
       "    .dataframe tbody tr th {\n",
       "        vertical-align: top;\n",
       "    }\n",
       "\n",
       "    .dataframe thead th {\n",
       "        text-align: right;\n",
       "    }\n",
       "</style>\n",
       "<table border=\"1\" class=\"dataframe\">\n",
       "  <thead>\n",
       "    <tr style=\"text-align: right;\">\n",
       "      <th></th>\n",
       "      <th>Reviews</th>\n",
       "      <th>Sentiments</th>\n",
       "    </tr>\n",
       "  </thead>\n",
       "  <tbody>\n",
       "    <tr>\n",
       "      <th>13277</th>\n",
       "      <td>product achi hai but wrong waist size send kar...</td>\n",
       "      <td>Neative</td>\n",
       "    </tr>\n",
       "  </tbody>\n",
       "</table>\n",
       "</div>"
      ],
      "text/plain": [
       "                                                 Reviews Sentiments\n",
       "13277  product achi hai but wrong waist size send kar...    Neative"
      ]
     },
     "execution_count": 2,
     "metadata": {},
     "output_type": "execute_result"
    }
   ],
   "source": [
    "df[df['Sentiments'] == 'Neative']"
   ]
  },
  {
   "cell_type": "code",
   "execution_count": 3,
   "metadata": {
    "execution": {
     "iopub.execute_input": "2023-12-27T17:24:13.891349Z",
     "iopub.status.busy": "2023-12-27T17:24:13.890617Z",
     "iopub.status.idle": "2023-12-27T17:24:13.901689Z",
     "shell.execute_reply": "2023-12-27T17:24:13.900564Z",
     "shell.execute_reply.started": "2023-12-27T17:24:13.891314Z"
    }
   },
   "outputs": [],
   "source": [
    "df.loc[df['Sentiments']=='Neative', 'Sentiments'] = 'Negative'"
   ]
  },
  {
   "cell_type": "code",
   "execution_count": 4,
   "metadata": {
    "execution": {
     "iopub.execute_input": "2023-12-27T17:24:51.495496Z",
     "iopub.status.busy": "2023-12-27T17:24:51.495161Z",
     "iopub.status.idle": "2023-12-27T17:24:51.510901Z",
     "shell.execute_reply": "2023-12-27T17:24:51.509865Z",
     "shell.execute_reply.started": "2023-12-27T17:24:51.495468Z"
    }
   },
   "outputs": [
    {
     "name": "stdout",
     "output_type": "stream",
     "text": [
      "NaN values per column:\n",
      "Reviews       2\n",
      "Sentiments    9\n",
      "dtype: int64\n"
     ]
    }
   ],
   "source": [
    "nan_values = df.isna().sum()\n",
    "\n",
    "# Print the number of NaN values for each column\n",
    "print(\"NaN values per column:\")\n",
    "print(nan_values)"
   ]
  },
  {
   "cell_type": "code",
   "execution_count": 5,
   "metadata": {
    "execution": {
     "iopub.execute_input": "2023-12-27T17:25:07.353416Z",
     "iopub.status.busy": "2023-12-27T17:25:07.353086Z",
     "iopub.status.idle": "2023-12-27T17:25:07.373584Z",
     "shell.execute_reply": "2023-12-27T17:25:07.372392Z",
     "shell.execute_reply.started": "2023-12-27T17:25:07.353388Z"
    }
   },
   "outputs": [],
   "source": [
    "df.dropna(subset=['Reviews', 'Sentiments'], inplace=True)"
   ]
  },
  {
   "cell_type": "code",
   "execution_count": 6,
   "metadata": {
    "execution": {
     "iopub.execute_input": "2023-12-27T17:25:26.787363Z",
     "iopub.status.busy": "2023-12-27T17:25:26.786653Z",
     "iopub.status.idle": "2023-12-27T17:25:26.800170Z",
     "shell.execute_reply": "2023-12-27T17:25:26.799169Z",
     "shell.execute_reply.started": "2023-12-27T17:25:26.787330Z"
    }
   },
   "outputs": [
    {
     "name": "stdout",
     "output_type": "stream",
     "text": [
      "NaN values per column:\n",
      "Reviews       0\n",
      "Sentiments    0\n",
      "dtype: int64\n"
     ]
    }
   ],
   "source": [
    "nan_values = df.isna().sum()\n",
    "\n",
    "# Print the number of NaN values for each column\n",
    "print(\"NaN values per column:\")\n",
    "print(nan_values)"
   ]
  },
  {
   "cell_type": "code",
   "execution_count": 8,
   "metadata": {
    "execution": {
     "iopub.execute_input": "2023-12-27T17:26:12.134253Z",
     "iopub.status.busy": "2023-12-27T17:26:12.133905Z",
     "iopub.status.idle": "2023-12-27T17:26:12.157008Z",
     "shell.execute_reply": "2023-12-27T17:26:12.156009Z",
     "shell.execute_reply.started": "2023-12-27T17:26:12.134224Z"
    }
   },
   "outputs": [
    {
     "data": {
      "text/html": [
       "<div>\n",
       "<style scoped>\n",
       "    .dataframe tbody tr th:only-of-type {\n",
       "        vertical-align: middle;\n",
       "    }\n",
       "\n",
       "    .dataframe tbody tr th {\n",
       "        vertical-align: top;\n",
       "    }\n",
       "\n",
       "    .dataframe thead th {\n",
       "        text-align: right;\n",
       "    }\n",
       "</style>\n",
       "<table border=\"1\" class=\"dataframe\">\n",
       "  <thead>\n",
       "    <tr style=\"text-align: right;\">\n",
       "      <th></th>\n",
       "      <th>Reviews</th>\n",
       "      <th>Sentiments</th>\n",
       "    </tr>\n",
       "  </thead>\n",
       "  <tbody>\n",
       "    <tr>\n",
       "      <th>0</th>\n",
       "      <td>Sai kha ya her kisi kay bus ki bat nhi hai lak...</td>\n",
       "      <td>2.0</td>\n",
       "    </tr>\n",
       "    <tr>\n",
       "      <th>1</th>\n",
       "      <td>sahi bt h</td>\n",
       "      <td>2.0</td>\n",
       "    </tr>\n",
       "    <tr>\n",
       "      <th>2</th>\n",
       "      <td>Kya bt hai,</td>\n",
       "      <td>2.0</td>\n",
       "    </tr>\n",
       "    <tr>\n",
       "      <th>3</th>\n",
       "      <td>Wah je wah</td>\n",
       "      <td>2.0</td>\n",
       "    </tr>\n",
       "    <tr>\n",
       "      <th>4</th>\n",
       "      <td>Are wha kaya bat hai</td>\n",
       "      <td>2.0</td>\n",
       "    </tr>\n",
       "    <tr>\n",
       "      <th>...</th>\n",
       "      <td>...</td>\n",
       "      <td>...</td>\n",
       "    </tr>\n",
       "    <tr>\n",
       "      <th>34163</th>\n",
       "      <td>very nice bhook lagne lagi biryani ko dakh k</td>\n",
       "      <td>2.0</td>\n",
       "    </tr>\n",
       "    <tr>\n",
       "      <th>34164</th>\n",
       "      <td>koi bna dy.........fishh</td>\n",
       "      <td>1.0</td>\n",
       "    </tr>\n",
       "    <tr>\n",
       "      <th>34165</th>\n",
       "      <td>bi kha k tu dkho bht mazy ki hoti h</td>\n",
       "      <td>2.0</td>\n",
       "    </tr>\n",
       "    <tr>\n",
       "      <th>34166</th>\n",
       "      <td>Try ki hai but pata nhi kiu I just don't like ...</td>\n",
       "      <td>0.0</td>\n",
       "    </tr>\n",
       "    <tr>\n",
       "      <th>34167</th>\n",
       "      <td>tu phir ap dher sari protien se mehroom rahain...</td>\n",
       "      <td>0.0</td>\n",
       "    </tr>\n",
       "  </tbody>\n",
       "</table>\n",
       "<p>34157 rows × 2 columns</p>\n",
       "</div>"
      ],
      "text/plain": [
       "                                                 Reviews  Sentiments\n",
       "0      Sai kha ya her kisi kay bus ki bat nhi hai lak...         2.0\n",
       "1                                              sahi bt h         2.0\n",
       "2                                            Kya bt hai,         2.0\n",
       "3                                             Wah je wah         2.0\n",
       "4                                   Are wha kaya bat hai         2.0\n",
       "...                                                  ...         ...\n",
       "34163       very nice bhook lagne lagi biryani ko dakh k         2.0\n",
       "34164                           koi bna dy.........fishh         1.0\n",
       "34165                bi kha k tu dkho bht mazy ki hoti h         2.0\n",
       "34166  Try ki hai but pata nhi kiu I just don't like ...         0.0\n",
       "34167  tu phir ap dher sari protien se mehroom rahain...         0.0\n",
       "\n",
       "[34157 rows x 2 columns]"
      ]
     },
     "execution_count": 8,
     "metadata": {},
     "output_type": "execute_result"
    }
   ],
   "source": [
    "# Mapping labels to integers\n",
    "label_mapping = {'Negative': 0, 'Neutral': 1, 'Positive': 2}\n",
    "df['Sentiments'] = df['Sentiments'].map(label_mapping)\n",
    "df"
   ]
  },
  {
   "cell_type": "code",
   "execution_count": 9,
   "metadata": {
    "execution": {
     "iopub.execute_input": "2023-12-27T17:26:24.517337Z",
     "iopub.status.busy": "2023-12-27T17:26:24.516954Z",
     "iopub.status.idle": "2023-12-27T17:26:24.528109Z",
     "shell.execute_reply": "2023-12-27T17:26:24.527006Z",
     "shell.execute_reply.started": "2023-12-27T17:26:24.517307Z"
    }
   },
   "outputs": [
    {
     "name": "stdout",
     "output_type": "stream",
     "text": [
      "NaN values per column:\n",
      "Reviews        0\n",
      "Sentiments    13\n",
      "dtype: int64\n"
     ]
    }
   ],
   "source": [
    "nan_values = df.isna().sum()\n",
    "\n",
    "# Print the number of NaN values for each column\n",
    "print(\"NaN values per column:\")\n",
    "print(nan_values)"
   ]
  },
  {
   "cell_type": "code",
   "execution_count": 10,
   "metadata": {
    "execution": {
     "iopub.execute_input": "2023-12-27T17:26:45.231876Z",
     "iopub.status.busy": "2023-12-27T17:26:45.231476Z",
     "iopub.status.idle": "2023-12-27T17:26:45.244712Z",
     "shell.execute_reply": "2023-12-27T17:26:45.243850Z",
     "shell.execute_reply.started": "2023-12-27T17:26:45.231843Z"
    }
   },
   "outputs": [],
   "source": [
    "df.dropna(subset=['Reviews', 'Sentiments'], inplace=True)"
   ]
  },
  {
   "cell_type": "code",
   "execution_count": 11,
   "metadata": {
    "execution": {
     "iopub.execute_input": "2023-12-27T17:26:53.786404Z",
     "iopub.status.busy": "2023-12-27T17:26:53.786072Z",
     "iopub.status.idle": "2023-12-27T17:26:53.796963Z",
     "shell.execute_reply": "2023-12-27T17:26:53.795876Z",
     "shell.execute_reply.started": "2023-12-27T17:26:53.786366Z"
    }
   },
   "outputs": [
    {
     "name": "stdout",
     "output_type": "stream",
     "text": [
      "NaN values per column:\n",
      "Reviews       0\n",
      "Sentiments    0\n",
      "dtype: int64\n"
     ]
    }
   ],
   "source": [
    "nan_values = df.isna().sum()\n",
    "\n",
    "# Print the number of NaN values for each column\n",
    "print(\"NaN values per column:\")\n",
    "print(nan_values)"
   ]
  },
  {
   "cell_type": "code",
   "execution_count": 12,
   "metadata": {
    "execution": {
     "iopub.execute_input": "2023-12-27T17:26:56.909981Z",
     "iopub.status.busy": "2023-12-27T17:26:56.909590Z",
     "iopub.status.idle": "2023-12-27T17:27:21.483428Z",
     "shell.execute_reply": "2023-12-27T17:27:21.482560Z",
     "shell.execute_reply.started": "2023-12-27T17:26:56.909952Z"
    }
   },
   "outputs": [
    {
     "name": "stderr",
     "output_type": "stream",
     "text": [
      "/opt/conda/lib/python3.10/site-packages/scipy/__init__.py:146: UserWarning: A NumPy version >=1.16.5 and <1.23.0 is required for this version of SciPy (detected version 1.24.3\n",
      "  warnings.warn(f\"A NumPy version >={np_minversion} and <{np_maxversion}\"\n"
     ]
    }
   ],
   "source": [
    "import pandas as pd\n",
    "import tensorflow as tf\n",
    "from transformers import DistilBertTokenizer, TFDistilBertModel\n",
    "from tensorflow.keras.models import Sequential\n",
    "from tensorflow.keras.layers import Input,Conv1D, Bidirectional, GRU, Dense, Embedding, SpatialDropout1D\n",
    "from sklearn.model_selection import train_test_split\n",
    "from sklearn.utils import class_weight\n",
    "\n",
    "\n",
    "\n",
    "\n",
    "\n"
   ]
  },
  {
   "cell_type": "code",
   "execution_count": 14,
   "metadata": {
    "execution": {
     "iopub.execute_input": "2023-12-27T17:27:51.150248Z",
     "iopub.status.busy": "2023-12-27T17:27:51.149885Z",
     "iopub.status.idle": "2023-12-27T17:28:25.051224Z",
     "shell.execute_reply": "2023-12-27T17:28:25.050295Z",
     "shell.execute_reply.started": "2023-12-27T17:27:51.150219Z"
    }
   },
   "outputs": [],
   "source": [
    "# Tokenization using DistilBERT\n",
    "tokenizer = DistilBertTokenizer.from_pretrained('distilbert-base-uncased')\n",
    "\n",
    "# Convert the text column to a list of strings\n",
    "text_list = df['Reviews'].astype(str).tolist()\n",
    "\n",
    "# Tokenize the text\n",
    "encoded_texts = tokenizer(text_list, padding=True, truncation=True, return_tensors='tf')\n",
    "\n",
    "\n",
    "# Convert the 'input_ids' tensor to a NumPy array\n",
    "X = encoded_texts['input_ids'].numpy()\n",
    "\n",
    "# Split the dataset into training and testing sets\n",
    "X_train, X_test, y_train, y_test = train_test_split(X, df['Sentiments'], test_size=0.2, random_state=42)\n",
    "\n",
    "\n"
   ]
  },
  {
   "cell_type": "code",
   "execution_count": 15,
   "metadata": {
    "execution": {
     "iopub.execute_input": "2023-12-27T17:28:30.848190Z",
     "iopub.status.busy": "2023-12-27T17:28:30.847529Z",
     "iopub.status.idle": "2023-12-27T17:42:53.159883Z",
     "shell.execute_reply": "2023-12-27T17:42:53.158854Z",
     "shell.execute_reply.started": "2023-12-27T17:28:30.848154Z"
    }
   },
   "outputs": [
    {
     "name": "stdout",
     "output_type": "stream",
     "text": [
      "Model: \"sequential\"\n",
      "_________________________________________________________________\n",
      " Layer (type)                Output Shape              Param #   \n",
      "=================================================================\n",
      " embedding (Embedding)       (None, 512, 32)           976704    \n",
      "                                                                 \n",
      " conv1d (Conv1D)             (None, 508, 128)          20608     \n",
      "                                                                 \n",
      " spatial_dropout1d (Spatial  (None, 508, 128)          0         \n",
      " Dropout1D)                                                      \n",
      "                                                                 \n",
      " bidirectional (Bidirection  (None, 508, 128)          74496     \n",
      " al)                                                             \n",
      "                                                                 \n",
      " bidirectional_1 (Bidirecti  (None, 128)               74496     \n",
      " onal)                                                           \n",
      "                                                                 \n",
      " dense (Dense)               (None, 3)                 387       \n",
      "                                                                 \n",
      "=================================================================\n",
      "Total params: 1146691 (4.37 MB)\n",
      "Trainable params: 1146691 (4.37 MB)\n",
      "Non-trainable params: 0 (0.00 Byte)\n",
      "_________________________________________________________________\n",
      "Epoch 1/15\n",
      "854/854 [==============================] - 122s 119ms/step - loss: 0.8964 - accuracy: 0.5731 - val_loss: 0.8416 - val_accuracy: 0.6102\n",
      "Epoch 2/15\n",
      "854/854 [==============================] - 58s 68ms/step - loss: 0.7357 - accuracy: 0.6814 - val_loss: 0.8296 - val_accuracy: 0.6389\n",
      "Epoch 3/15\n",
      "854/854 [==============================] - 53s 62ms/step - loss: 0.6323 - accuracy: 0.7352 - val_loss: 0.8454 - val_accuracy: 0.6262\n",
      "Epoch 4/15\n",
      "854/854 [==============================] - 53s 62ms/step - loss: 0.5268 - accuracy: 0.7884 - val_loss: 0.9504 - val_accuracy: 0.6193\n",
      "Epoch 5/15\n",
      "854/854 [==============================] - 52s 61ms/step - loss: 0.4318 - accuracy: 0.8313 - val_loss: 1.0744 - val_accuracy: 0.6102\n",
      "Epoch 6/15\n",
      "854/854 [==============================] - 52s 61ms/step - loss: 0.3506 - accuracy: 0.8643 - val_loss: 1.1781 - val_accuracy: 0.6128\n",
      "Epoch 7/15\n",
      "854/854 [==============================] - 53s 62ms/step - loss: 0.2833 - accuracy: 0.8923 - val_loss: 1.3705 - val_accuracy: 0.6096\n",
      "Epoch 8/15\n",
      "854/854 [==============================] - 52s 60ms/step - loss: 0.2352 - accuracy: 0.9116 - val_loss: 1.4610 - val_accuracy: 0.5994\n",
      "Epoch 9/15\n",
      "854/854 [==============================] - 53s 62ms/step - loss: 0.1970 - accuracy: 0.9280 - val_loss: 1.6358 - val_accuracy: 0.5998\n",
      "Epoch 10/15\n",
      "854/854 [==============================] - 51s 60ms/step - loss: 0.1671 - accuracy: 0.9395 - val_loss: 1.8034 - val_accuracy: 0.5950\n",
      "Epoch 11/15\n",
      "854/854 [==============================] - 52s 61ms/step - loss: 0.1448 - accuracy: 0.9478 - val_loss: 1.8197 - val_accuracy: 0.6010\n",
      "Epoch 12/15\n",
      "854/854 [==============================] - 51s 60ms/step - loss: 0.1241 - accuracy: 0.9562 - val_loss: 1.9650 - val_accuracy: 0.5979\n",
      "Epoch 13/15\n",
      "854/854 [==============================] - 51s 60ms/step - loss: 0.1046 - accuracy: 0.9625 - val_loss: 2.1663 - val_accuracy: 0.5916\n",
      "Epoch 14/15\n",
      "854/854 [==============================] - 52s 60ms/step - loss: 0.1022 - accuracy: 0.9634 - val_loss: 2.1682 - val_accuracy: 0.5913\n",
      "Epoch 15/15\n",
      "854/854 [==============================] - 51s 60ms/step - loss: 0.0872 - accuracy: 0.9694 - val_loss: 2.3338 - val_accuracy: 0.5913\n",
      "214/214 [==============================] - 5s 24ms/step - loss: 2.3338 - accuracy: 0.5913\n",
      "Test Accuracy: 59.13%\n"
     ]
    }
   ],
   "source": [
    "# Define the neural network model\n",
    "model = Sequential()\n",
    "model.add(Embedding(input_dim=len(tokenizer.get_vocab()), output_dim=32, input_length=X.shape[1]))\n",
    "model.add(Conv1D(128, 5, activation='relu'))\n",
    "model.add(SpatialDropout1D(0.2))\n",
    "model.add(Bidirectional(GRU(64, return_sequences=True)))\n",
    "model.add(Bidirectional(GRU(64)))\n",
    "model.add(Dense(3, activation='softmax'))  # Assuming 3 classes (Negative, Neutral, Positive)\n",
    "\n",
    "# Compile the model\n",
    "model.compile(loss='sparse_categorical_crossentropy', optimizer='adam', metrics=['accuracy'])\n",
    "\n",
    "# Print a summary of the model architecture\n",
    "model.summary()\n",
    "\n",
    "# Train the model\n",
    "history = model.fit(X_train, y_train, epochs=15, batch_size=32, validation_data=(X_test, y_test))\n",
    "\n",
    "# Evaluate the model on the test set\n",
    "test_loss, test_accuracy = model.evaluate(X_test, y_test)\n",
    "print(f'Test Accuracy: {test_accuracy * 100:.2f}%')\n"
   ]
  },
  {
   "cell_type": "code",
   "execution_count": 22,
   "metadata": {
    "execution": {
     "iopub.execute_input": "2023-12-27T18:03:35.233221Z",
     "iopub.status.busy": "2023-12-27T18:03:35.232304Z",
     "iopub.status.idle": "2023-12-27T18:03:40.705828Z",
     "shell.execute_reply": "2023-12-27T18:03:40.704906Z",
     "shell.execute_reply.started": "2023-12-27T18:03:35.233182Z"
    }
   },
   "outputs": [
    {
     "name": "stdout",
     "output_type": "stream",
     "text": [
      "214/214 [==============================] - 5s 23ms/step\n"
     ]
    },
    {
     "data": {
      "image/png": "[encoded data removed]",
      "text/plain": [
       "<Figure size 800x600 with 2 Axes>"
      ]
     },
     "metadata": {},
     "output_type": "display_data"
    },
    {
     "name": "stdout",
     "output_type": "stream",
     "text": [
      "Classification Report:\n",
      "              precision    recall  f1-score   support\n",
      "\n",
      "         2.0       0.55      0.46      0.50      1868\n",
      "         1.0       0.59      0.59      0.59      2464\n",
      "         0.0       0.62      0.70      0.66      2497\n",
      "\n",
      "    accuracy                           0.59      6829\n",
      "   macro avg       0.58      0.58      0.58      6829\n",
      "weighted avg       0.59      0.59      0.59      6829\n",
      "\n"
     ]
    }
   ],
   "source": [
    "from sklearn.metrics import confusion_matrix, classification_report\n",
    "y_pred_probs = model.predict(X_test)\n",
    "y_pred_classes = y_pred_probs.argmax(axis=-1)\n",
    "\n",
    "# Plot confusion matrix\n",
    "conf_mat = confusion_matrix(y_test, y_pred_classes)\n",
    "class_names = df['Sentiments'].unique()\n",
    "\n",
    "# Plot heatmap\n",
    "plt.figure(figsize=(8, 6))\n",
    "sns.heatmap(conf_mat, annot=True, fmt='d', cmap='Blues', xticklabels=class_names, yticklabels=class_names)\n",
    "plt.xlabel('Predicted')\n",
    "plt.ylabel('Actual')\n",
    "plt.title('Confusion Matrix')\n",
    "plt.show()\n",
    "\n",
    "# Classification report\n",
    "class_namess = [str(label) for label in class_names]\n",
    "\n",
    "#\n",
    "print(\"Classification Report:\")\n",
    "print(classification_report(y_test, y_pred_classes, target_names=class_namess))"
   ]
  },
  {
   "cell_type": "code",
   "execution_count": null,
   "metadata": {},
   "outputs": [],
   "source": []
  }
 ],
 "metadata": {
  "kaggle": {
   "accelerator": "nvidiaTeslaT4",
   "dataSources": [
    {
     "datasetId": 4229323,
     "sourceId": 7292128,
     "sourceType": "datasetVersion"
    }
   ],
   "dockerImageVersionId": 30627,
   "isGpuEnabled": true,
   "isInternetEnabled": true,
   "language": "python",
   "sourceType": "notebook"
  },
  "kernelspec": {
   "display_name": "Python 3 (ipykernel)",
   "language": "python",
   "name": "python3"
  },
  "language_info": {
   "codemirror_mode": {
    "name": "ipython",
    "version": 3
   },
   "file_extension": ".py",
   "mimetype": "text/x-python",
   "name": "python",
   "nbconvert_exporter": "python",
   "pygments_lexer": "ipython3",
   "version": "3.9.7"
  }
 },
 "nbformat": 4,
 "nbformat_minor": 4
}
