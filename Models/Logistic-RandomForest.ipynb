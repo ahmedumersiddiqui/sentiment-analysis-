{
 "cells": [
  {
   "cell_type": "code",
   "execution_count": 1,
   "id": "39d3694d",
   "metadata": {},
   "outputs": [],
   "source": [
    "import numpy as np\n",
    "import pandas as pd\n",
    "import matplotlib.pyplot as plt\n",
    "import seaborn as sns\n",
    "import re\n",
    "import string\n",
    "import gc\n",
    "import warnings\n",
    "from joblib import dump, load\n",
    "warnings.filterwarnings('ignore')"
   ]
  },
  {
   "cell_type": "code",
   "execution_count": 7,
   "id": "e8ee90d7",
   "metadata": {},
   "outputs": [],
   "source": [
    "from sklearn.feature_extraction.text import TfidfVectorizer, CountVectorizer\n",
    "from sklearn.cluster import KMeans\n",
    "from sklearn.metrics import adjusted_rand_score\n",
    "from wordcloud import WordCloud, STOPWORDS, ImageColorGenerator\n",
    "import gensim\n",
    "from gensim.models import Word2Vec"
   ]
  },
  {
   "cell_type": "code",
   "execution_count": 40,
   "id": "42102ffd",
   "metadata": {},
   "outputs": [],
   "source": [
    "from sklearn.linear_model import LogisticRegression\n",
    "from sklearn.ensemble import RandomForestClassifier\n",
    "from sklearn.pipeline import Pipeline\n",
    "from sklearn import metrics\n",
    "from sklearn.metrics import accuracy_score, precision_score, recall_score, f1_score, confusion_matrix, classification_report"
   ]
  },
  {
   "cell_type": "code",
   "execution_count": 4,
   "id": "99a0105a",
   "metadata": {},
   "outputs": [],
   "source": [
    "def load_data():\n",
    "    data = pd.read_csv('cleaned_data.csv', names=['Review','Sentiment','Sentence_Removal','Lower_Case','Sen_Out_StopWord','stem'])\n",
    "    return data"
   ]
  },
  {
   "cell_type": "code",
   "execution_count": 5,
   "id": "b4cf4a25",
   "metadata": {},
   "outputs": [
    {
     "data": {
      "text/html": [
       "<div>\n",
       "<style scoped>\n",
       "    .dataframe tbody tr th:only-of-type {\n",
       "        vertical-align: middle;\n",
       "    }\n",
       "\n",
       "    .dataframe tbody tr th {\n",
       "        vertical-align: top;\n",
       "    }\n",
       "\n",
       "    .dataframe thead th {\n",
       "        text-align: right;\n",
       "    }\n",
       "</style>\n",
       "<table border=\"1\" class=\"dataframe\">\n",
       "  <thead>\n",
       "    <tr style=\"text-align: right;\">\n",
       "      <th></th>\n",
       "      <th>Review</th>\n",
       "      <th>Sentiment</th>\n",
       "      <th>Sentence_Removal</th>\n",
       "      <th>Lower_Case</th>\n",
       "      <th>Sen_Out_StopWord</th>\n",
       "      <th>stem</th>\n",
       "    </tr>\n",
       "  </thead>\n",
       "  <tbody>\n",
       "    <tr>\n",
       "      <th>0</th>\n",
       "      <td>Reviews</td>\n",
       "      <td>Sentiment</td>\n",
       "      <td>Sentence_Removal</td>\n",
       "      <td>Lower_Case</td>\n",
       "      <td>Sen_Out_StopWord</td>\n",
       "      <td>stem</td>\n",
       "    </tr>\n",
       "    <tr>\n",
       "      <th>1</th>\n",
       "      <td>Sai kha ya her kisi kay bus ki bat nhi hai lak...</td>\n",
       "      <td>Positive</td>\n",
       "      <td>Sai kha ya her kisi kay bus ki bat nhi hai lak...</td>\n",
       "      <td>sai kha ya her kisi kay bus ki bat nhi hai lak...</td>\n",
       "      <td>sai kha her kisi kay bus bat nhi lakin ki hal ...</td>\n",
       "      <td>sae qa er qisi qay bos bat ni laqin qi al qal ...</td>\n",
       "    </tr>\n",
       "    <tr>\n",
       "      <th>2</th>\n",
       "      <td>sahi bt h</td>\n",
       "      <td>Positive</td>\n",
       "      <td>sahi bt h</td>\n",
       "      <td>sahi bt h</td>\n",
       "      <td>sahi bt h</td>\n",
       "      <td>sai bt</td>\n",
       "    </tr>\n",
       "    <tr>\n",
       "      <th>3</th>\n",
       "      <td>Kya bt hai,</td>\n",
       "      <td>Positive</td>\n",
       "      <td>Kya bt hai</td>\n",
       "      <td>kya bt hai</td>\n",
       "      <td>bt</td>\n",
       "      <td>bt</td>\n",
       "    </tr>\n",
       "    <tr>\n",
       "      <th>4</th>\n",
       "      <td>Wah je wah</td>\n",
       "      <td>Positive</td>\n",
       "      <td>Wah je wah</td>\n",
       "      <td>wah je wah</td>\n",
       "      <td>wah je wah</td>\n",
       "      <td>wa je wa</td>\n",
       "    </tr>\n",
       "  </tbody>\n",
       "</table>\n",
       "</div>"
      ],
      "text/plain": [
       "                                              Review  Sentiment  \\\n",
       "0                                            Reviews  Sentiment   \n",
       "1  Sai kha ya her kisi kay bus ki bat nhi hai lak...   Positive   \n",
       "2                                          sahi bt h   Positive   \n",
       "3                                        Kya bt hai,   Positive   \n",
       "4                                         Wah je wah   Positive   \n",
       "\n",
       "                                    Sentence_Removal  \\\n",
       "0                                   Sentence_Removal   \n",
       "1  Sai kha ya her kisi kay bus ki bat nhi hai lak...   \n",
       "2                                          sahi bt h   \n",
       "3                                         Kya bt hai   \n",
       "4                                         Wah je wah   \n",
       "\n",
       "                                          Lower_Case  \\\n",
       "0                                         Lower_Case   \n",
       "1  sai kha ya her kisi kay bus ki bat nhi hai lak...   \n",
       "2                                          sahi bt h   \n",
       "3                                         kya bt hai   \n",
       "4                                         wah je wah   \n",
       "\n",
       "                                    Sen_Out_StopWord  \\\n",
       "0                                   Sen_Out_StopWord   \n",
       "1  sai kha her kisi kay bus bat nhi lakin ki hal ...   \n",
       "2                                          sahi bt h   \n",
       "3                                                 bt   \n",
       "4                                         wah je wah   \n",
       "\n",
       "                                                stem  \n",
       "0                                               stem  \n",
       "1  sae qa er qisi qay bos bat ni laqin qi al qal ...  \n",
       "2                                            sai bt   \n",
       "3                                                 bt  \n",
       "4                                           wa je wa  "
      ]
     },
     "execution_count": 5,
     "metadata": {},
     "output_type": "execute_result"
    }
   ],
   "source": [
    "roman_urdu_df= load_data()\n",
    "roman_urdu_df.head()"
   ]
  },
  {
   "cell_type": "code",
   "execution_count": 6,
   "id": "37b83a1c",
   "metadata": {},
   "outputs": [
    {
     "data": {
      "text/html": [
       "<div>\n",
       "<style scoped>\n",
       "    .dataframe tbody tr th:only-of-type {\n",
       "        vertical-align: middle;\n",
       "    }\n",
       "\n",
       "    .dataframe tbody tr th {\n",
       "        vertical-align: top;\n",
       "    }\n",
       "\n",
       "    .dataframe thead th {\n",
       "        text-align: right;\n",
       "    }\n",
       "</style>\n",
       "<table border=\"1\" class=\"dataframe\">\n",
       "  <thead>\n",
       "    <tr style=\"text-align: right;\">\n",
       "      <th></th>\n",
       "      <th>Review</th>\n",
       "      <th>Sentiment</th>\n",
       "      <th>Sentence_Removal</th>\n",
       "      <th>Lower_Case</th>\n",
       "      <th>Sen_Out_StopWord</th>\n",
       "      <th>stem</th>\n",
       "    </tr>\n",
       "  </thead>\n",
       "  <tbody>\n",
       "    <tr>\n",
       "      <th>0</th>\n",
       "      <td>Sai kha ya her kisi kay bus ki bat nhi hai lak...</td>\n",
       "      <td>Positive</td>\n",
       "      <td>Sai kha ya her kisi kay bus ki bat nhi hai lak...</td>\n",
       "      <td>sai kha ya her kisi kay bus ki bat nhi hai lak...</td>\n",
       "      <td>sai kha her kisi kay bus bat nhi lakin ki hal ...</td>\n",
       "      <td>sae qa er qisi qay bos bat ni laqin qi al qal ...</td>\n",
       "    </tr>\n",
       "    <tr>\n",
       "      <th>1</th>\n",
       "      <td>sahi bt h</td>\n",
       "      <td>Positive</td>\n",
       "      <td>sahi bt h</td>\n",
       "      <td>sahi bt h</td>\n",
       "      <td>sahi bt h</td>\n",
       "      <td>sai bt</td>\n",
       "    </tr>\n",
       "    <tr>\n",
       "      <th>2</th>\n",
       "      <td>Kya bt hai,</td>\n",
       "      <td>Positive</td>\n",
       "      <td>Kya bt hai</td>\n",
       "      <td>kya bt hai</td>\n",
       "      <td>bt</td>\n",
       "      <td>bt</td>\n",
       "    </tr>\n",
       "    <tr>\n",
       "      <th>3</th>\n",
       "      <td>Wah je wah</td>\n",
       "      <td>Positive</td>\n",
       "      <td>Wah je wah</td>\n",
       "      <td>wah je wah</td>\n",
       "      <td>wah je wah</td>\n",
       "      <td>wa je wa</td>\n",
       "    </tr>\n",
       "    <tr>\n",
       "      <th>4</th>\n",
       "      <td>Are wha kaya bat hai</td>\n",
       "      <td>Positive</td>\n",
       "      <td>Are wha kaya bat hai</td>\n",
       "      <td>are wha kaya bat hai</td>\n",
       "      <td>are wha kaya bat</td>\n",
       "      <td>are wa qaya bat</td>\n",
       "    </tr>\n",
       "  </tbody>\n",
       "</table>\n",
       "</div>"
      ],
      "text/plain": [
       "                                              Review Sentiment  \\\n",
       "0  Sai kha ya her kisi kay bus ki bat nhi hai lak...  Positive   \n",
       "1                                          sahi bt h  Positive   \n",
       "2                                        Kya bt hai,  Positive   \n",
       "3                                         Wah je wah  Positive   \n",
       "4                               Are wha kaya bat hai  Positive   \n",
       "\n",
       "                                    Sentence_Removal  \\\n",
       "0  Sai kha ya her kisi kay bus ki bat nhi hai lak...   \n",
       "1                                          sahi bt h   \n",
       "2                                         Kya bt hai   \n",
       "3                                         Wah je wah   \n",
       "4                               Are wha kaya bat hai   \n",
       "\n",
       "                                          Lower_Case  \\\n",
       "0  sai kha ya her kisi kay bus ki bat nhi hai lak...   \n",
       "1                                          sahi bt h   \n",
       "2                                         kya bt hai   \n",
       "3                                         wah je wah   \n",
       "4                               are wha kaya bat hai   \n",
       "\n",
       "                                    Sen_Out_StopWord  \\\n",
       "0  sai kha her kisi kay bus bat nhi lakin ki hal ...   \n",
       "1                                          sahi bt h   \n",
       "2                                                 bt   \n",
       "3                                         wah je wah   \n",
       "4                                   are wha kaya bat   \n",
       "\n",
       "                                                stem  \n",
       "0  sae qa er qisi qay bos bat ni laqin qi al qal ...  \n",
       "1                                            sai bt   \n",
       "2                                                 bt  \n",
       "3                                           wa je wa  \n",
       "4                                    are wa qaya bat  "
      ]
     },
     "execution_count": 6,
     "metadata": {},
     "output_type": "execute_result"
    }
   ],
   "source": [
    "roman_urdu_df = roman_urdu_df.drop(roman_urdu_df.index[0])\n",
    "roman_urdu_df = roman_urdu_df.reset_index(drop=True)\n",
    "roman_urdu_df.head()"
   ]
  },
  {
   "cell_type": "code",
   "execution_count": 13,
   "id": "3e813a1d",
   "metadata": {},
   "outputs": [
    {
     "name": "stdout",
     "output_type": "stream",
     "text": [
      "Review              False\n",
      "Sentiment           False\n",
      "Sentence_Removal     True\n",
      "Lower_Case           True\n",
      "Sen_Out_StopWord     True\n",
      "stem                 True\n",
      "dtype: bool\n"
     ]
    }
   ],
   "source": [
    "print(roman_urdu_df.isna().any())"
   ]
  },
  {
   "cell_type": "code",
   "execution_count": 15,
   "id": "ed27b8d9",
   "metadata": {},
   "outputs": [
    {
     "name": "stdout",
     "output_type": "stream",
     "text": [
      "Review              False\n",
      "Sentiment           False\n",
      "Sentence_Removal    False\n",
      "Lower_Case          False\n",
      "Sen_Out_StopWord    False\n",
      "stem                False\n",
      "dtype: bool\n"
     ]
    }
   ],
   "source": [
    "roman_urdu_df=roman_urdu_df.dropna()\n",
    "print(roman_urdu_df.isna().any())"
   ]
  },
  {
   "cell_type": "code",
   "execution_count": 16,
   "id": "fa3ab180",
   "metadata": {},
   "outputs": [],
   "source": [
    "def generateWordCloudForClusters(n_clusters,clustermTerms):\n",
    "    termListerOfSeprateCluster=[]\n",
    "    for clusterno in range(n_clusters):\n",
    "        for i in (clustermTerms):\n",
    "            if(clusterno == i.get('cluster')):\n",
    "                terms = i.get('terms')\n",
    "                termListerOfSeprateCluster.append((terms))\n",
    "        print(termListerOfSeprateCluster)\n",
    "        wordcloud = WordCloud(width = 500, height = 500, background_color='black', random_state=10).generate(transformForWordCount(termListerOfSeprateCluster))\n",
    "        plot_cloud(wordcloud)\n",
    "        termListerOfSeprateCluster = []\n",
    "\n",
    "def transformForWordCount(terms):\n",
    "    cloud = []\n",
    "    for term in range(len(terms)):\n",
    "        cloud.append(terms[term])\n",
    "    return \" \".join(cloud)\n",
    "def plot_cloud(wordcloud):\n",
    "    plt.figure(figsize=(10, 10))\n",
    "    plt.imshow(wordcloud)\n",
    "    plt.axis(\"off\");"
   ]
  },
  {
   "cell_type": "code",
   "execution_count": 17,
   "id": "6718c3cf",
   "metadata": {},
   "outputs": [],
   "source": [
    "from sklearn.model_selection import train_test_split\n",
    "\n",
    "train_features,test_features, train_target, test_target = train_test_split(roman_urdu_df['stem'], roman_urdu_df['Sentiment'],\n",
    "                                                          random_state=42,\n",
    "                                                          test_size=0.2)\n"
   ]
  },
  {
   "cell_type": "markdown",
   "id": "e3745bac",
   "metadata": {},
   "source": [
    "Count Vectorizer"
   ]
  },
  {
   "cell_type": "code",
   "execution_count": 20,
   "id": "28508562",
   "metadata": {},
   "outputs": [
    {
     "data": {
      "text/plain": [
       "(27149, 470180)"
      ]
     },
     "execution_count": 20,
     "metadata": {},
     "output_type": "execute_result"
    }
   ],
   "source": [
    "count_vectorizer = CountVectorizer(lowercase=False, stop_words=None, ngram_range=(1,3))\n",
    "bow = count_vectorizer.fit_transform(train_features)\n",
    "dump(count_vectorizer, 'count_vectorizer_model.joblib')\n",
    "bow.shape"
   ]
  },
  {
   "cell_type": "markdown",
   "id": "15cf6949",
   "metadata": {},
   "source": [
    "Tf-idf"
   ]
  },
  {
   "cell_type": "code",
   "execution_count": 21,
   "id": "577e938d",
   "metadata": {},
   "outputs": [
    {
     "data": {
      "text/plain": [
       "(27149, 470180)"
      ]
     },
     "execution_count": 21,
     "metadata": {},
     "output_type": "execute_result"
    }
   ],
   "source": [
    "tfidf =TfidfVectorizer(stop_words=None, ngram_range=(1,3))\n",
    "tfidf_features = tfidf.fit_transform(train_features)\n",
    "dump(tfidf, 'tfidf_vectorizer_model.joblib')\n",
    "tfidf_features.shape"
   ]
  },
  {
   "cell_type": "markdown",
   "id": "b0377def",
   "metadata": {},
   "source": [
    "Word2Vec"
   ]
  },
  {
   "cell_type": "code",
   "execution_count": 22,
   "id": "e22c94d5",
   "metadata": {},
   "outputs": [],
   "source": [
    "train_features_w2v = train_features.reset_index()['stem']\n",
    "test_features_w2v = test_features.reset_index()['stem']\n",
    "tokenized_train_features_w2v = train_features_w2v.apply(lambda x:x.split())\n",
    "tokenized_test_features_w2v = test_features_w2v.apply(lambda x:x.split())\n",
    "word2vec_model = Word2Vec(\n",
    "                                       tokenized_train_features_w2v,\n",
    "                                       vector_size = 200, #desired number of features/ independent variables for each word\n",
    "                                       window = 5,  #context window size\n",
    "                                       min_count = 5,\n",
    "                                       sg = 1, #skip gram model\n",
    "                                       hs = 0,\n",
    "                                       negative = 10,  #negative sampling\n",
    "                                       workers = 4,\n",
    "                                       seed = 34\n",
    "                                       )\n",
    "\n",
    "word2vec_model.train(tokenized_train_features_w2v, total_examples=len(train_features_w2v), epochs=20)\n",
    "word2vec_model.save(\"word2vec_model\")\n",
    "\n",
    "word_vectors = word2vec_model.wv\n",
    "word_vectors.save(\"word_vectors.kv\")"
   ]
  },
  {
   "cell_type": "markdown",
   "id": "4607f4a4",
   "metadata": {},
   "source": [
    "Doc2Vec"
   ]
  },
  {
   "cell_type": "code",
   "execution_count": 25,
   "id": "08f79f75",
   "metadata": {},
   "outputs": [
    {
     "name": "stderr",
     "output_type": "stream",
     "text": [
      "[nltk_data] Downloading package punkt to\n",
      "[nltk_data]     C:\\Users\\Dell\\AppData\\Roaming\\nltk_data...\n",
      "[nltk_data]   Package punkt is already up-to-date!\n"
     ]
    },
    {
     "data": {
      "text/plain": [
       "True"
      ]
     },
     "execution_count": 25,
     "metadata": {},
     "output_type": "execute_result"
    }
   ],
   "source": [
    "import nltk\n",
    "nltk.download('punkt')"
   ]
  },
  {
   "cell_type": "code",
   "execution_count": 26,
   "id": "3c5b8045",
   "metadata": {},
   "outputs": [],
   "source": [
    "from gensim.models import Doc2Vec\n",
    "from gensim.models.doc2vec import TaggedDocument\n",
    "from nltk.tokenize import word_tokenize\n",
    "import numpy as np\n",
    "\n",
    "# Assuming tokenized_train_features_w2v and tokenized_test_features_w2v are lists of sentences\n",
    "tokenized_train_features_w2v = [' '.join(sentence) for sentence in tokenized_train_features_w2v]\n",
    "tokenized_test_features_w2v = [' '.join(sentence) for sentence in tokenized_test_features_w2v]\n",
    "\n",
    "# Now, tokenized_train_features_w2v and tokenized_test_features_w2v are lists of strings\n",
    "\n",
    "# Continue with the TaggedDocument creation\n",
    "tagged_train_data = [TaggedDocument(words=word_tokenize(sentence), tags=[str(i)]) for i, sentence in enumerate(tokenized_train_features_w2v)]\n",
    "tagged_test_data = [TaggedDocument(words=word_tokenize(sentence), tags=[str(i)]) for i, sentence in enumerate(tokenized_test_features_w2v)]\n",
    "# Initialize and train the Doc2Vec model\n",
    "doc2vec_model = Doc2Vec(\n",
    "    vector_size=200,  # Size of the output vectors\n",
    "    window=5,\n",
    "    min_count=2,\n",
    "    workers=2,\n",
    "    epochs=20\n",
    ")\n",
    "\n",
    "# Build the vocabulary\n",
    "doc2vec_model.build_vocab(tagged_train_data)\n",
    "\n",
    "# Train the model\n",
    "doc2vec_model.train(tagged_train_data, total_examples=doc2vec_model.corpus_count, epochs=doc2vec_model.epochs)\n",
    "\n",
    "# Save the trained model\n",
    "doc2vec_model.save(\"Doc2Vec_model\")\n",
    "\n",
    "# Get sentence vectors for train and test sets\n",
    "train_sentence_vectors = np.array([doc2vec_model.infer_vector(word_tokenize(sentence)) for sentence in tokenized_train_features_w2v])\n",
    "test_sentence_vectors = np.array([doc2vec_model.infer_vector(word_tokenize(sentence)) for sentence in tokenized_test_features_w2v])\n"
   ]
  },
  {
   "cell_type": "code",
   "execution_count": 27,
   "id": "bfd74b7a",
   "metadata": {},
   "outputs": [
    {
     "data": {
      "text/plain": [
       "array([[ 0.00522231, -0.02738305, -0.01934027, ...,  0.02487318,\n",
       "        -0.03469143,  0.02675257],\n",
       "       [-0.01007788,  0.07382778,  0.02494571, ...,  0.05041074,\n",
       "         0.00885242,  0.00175718],\n",
       "       [ 0.01987694, -0.01046612, -0.01872256, ...,  0.02202375,\n",
       "         0.03908313,  0.00462122],\n",
       "       ...,\n",
       "       [ 0.04964953,  0.03315032, -0.04300547, ..., -0.06770737,\n",
       "         0.03177095,  0.03034874],\n",
       "       [ 0.01815577,  0.0283645 ,  0.05081709, ...,  0.070305  ,\n",
       "        -0.00189479,  0.01149882],\n",
       "       [-0.01425223, -0.00519119,  0.02224007, ...,  0.00873804,\n",
       "         0.00903629,  0.01181686]], dtype=float32)"
      ]
     },
     "execution_count": 27,
     "metadata": {},
     "output_type": "execute_result"
    }
   ],
   "source": [
    "train_sentence_vectors"
   ]
  },
  {
   "cell_type": "code",
   "execution_count": 28,
   "id": "8f9f5291",
   "metadata": {},
   "outputs": [],
   "source": [
    "def word_vector(tokens, size):\n",
    "    vec,count = np.zeros(size).reshape((1, size)),0\n",
    "    for word in tokens:\n",
    "        try:\n",
    "            vec += word2vec_model.wv[word].reshape((1, size))\n",
    "            count += 1\n",
    "        except KeyError: # handling the case where the token is not in the vocabulary\n",
    "            continue\n",
    "\n",
    "    if count != 0:\n",
    "        vec /= count\n",
    "    return vec"
   ]
  },
  {
   "cell_type": "code",
   "execution_count": 29,
   "id": "c274c4e9",
   "metadata": {},
   "outputs": [],
   "source": [
    "train_array_w2v = np.zeros((len(tokenized_train_features_w2v), 200))\n",
    "\n",
    "for i in range(len(tokenized_train_features_w2v)):\n",
    "    train_array_w2v[i,:] = word_vector(tokenized_train_features_w2v[i], 200)\n",
    "\n",
    "train_features_w2v=pd.DataFrame(train_array_w2v)"
   ]
  },
  {
   "cell_type": "code",
   "execution_count": 30,
   "id": "e9870d20",
   "metadata": {},
   "outputs": [],
   "source": [
    "test_array_w2v = np.zeros((len(tokenized_test_features_w2v), 200))\n",
    "\n",
    "for i in range(len(tokenized_test_features_w2v)):\n",
    "    test_array_w2v[i,:] = word_vector(tokenized_test_features_w2v[i], 200)\n",
    "\n",
    "test_features_w2v =    pd.DataFrame(test_array_w2v)\n"
   ]
  },
  {
   "cell_type": "code",
   "execution_count": 32,
   "id": "5e684e56",
   "metadata": {},
   "outputs": [],
   "source": [
    "pipe_logreg_cv = Pipeline ([('cv' , CountVectorizer()),('logreg', LogisticRegression (class_weight = 'balanced', random_state=42))])\n",
    "pipe_logreg_tfidf = Pipeline ([('tfidf' , TfidfVectorizer()),('logreg', LogisticRegression(class_weight = 'balanced',random_state=42))])\n",
    "pipe_logreg_w2v = Pipeline ([('logreg', LogisticRegression (class_weight = 'balanced',random_state=42))])\n",
    "pipe_logreg_d2v = Pipeline ([('logreg', LogisticRegression (class_weight= 'balanced', random_state=42))])\n",
    "\n",
    "pipe_rf_cv = Pipeline ([('cv' , CountVectorizer()),('rf', RandomForestClassifier (random_state=42))])\n",
    "pipe_rf_tfidf = Pipeline ([('tfidf' , TfidfVectorizer()),('rf', RandomForestClassifier (random_state=42))])\n",
    "pipe_rf_w2v = Pipeline ([('rf', RandomForestClassifier (random_state=42))])\n",
    "pipe_rf_d2v = Pipeline ([('rf', RandomForestClassifier (random_state=42))])\n",
    "\n",
    "pipeline_list = [pipe_logreg_cv,pipe_logreg_tfidf,pipe_logreg_w2v,pipe_logreg_d2v,pipe_rf_cv,pipe_rf_tfidf,pipe_rf_w2v,pipe_rf_d2v]\n",
    "\n",
    "pipeline_dict = {0: 'Logistic Regression with CountVectorizer', 1: 'Logistic Regression with Tfidf',\n",
    "             2: 'Logistic Regression with w2v',3: 'Logistic Regression with d2v', 4: 'Random Forest with CountVectorizer',\n",
    "             5: 'Random Forest with Tfidf' , 6: 'Random Forest with w2v', 7: 'Random Forest with d2v'}"
   ]
  },
  {
   "cell_type": "code",
   "execution_count": 38,
   "id": "f647a7cb",
   "metadata": {},
   "outputs": [],
   "source": [
    "def evaluate_and_visualize(model_name, y_true, y_pred):\n",
    "    print(f'\\nMetrics for {model_name}:')\n",
    "    \n",
    "    # Accuracy\n",
    "    accuracy = accuracy_score(y_true, y_pred)\n",
    "    print(f'Accuracy: {accuracy:.3f}')\n",
    "    \n",
    "    # Precision\n",
    "    precision = precision_score(y_true, y_pred, average='weighted')\n",
    "    print(f'Precision: {precision:.3f}')\n",
    "    \n",
    "    # Recall\n",
    "    recall = recall_score(y_true, y_pred, average='weighted')\n",
    "    print(f'Recall: {recall:.3f}')\n",
    "    \n",
    "    # F1 Score\n",
    "    f1 = f1_score(y_true, y_pred, average='weighted')\n",
    "    print(f'F1 Score: {f1:.3f}')\n",
    "    \n",
    "    # Confusion Matrix\n",
    "    cm = confusion_matrix(y_true, y_pred)\n",
    "    plt.figure(figsize=(8, 6))\n",
    "    sns.heatmap(cm, annot=True, fmt='d', cmap='Blues', xticklabels=['Negative', 'Neutral', 'Positive'], yticklabels=['Negative', 'Neutral', 'Positive'])\n",
    "    plt.title('Confusion Matrix')\n",
    "    plt.xlabel('Predicted')\n",
    "    plt.ylabel('True')\n",
    "    plt.show()\n",
    "    \n",
    "    # Classification Report\n",
    "    print('Classification Report:')\n",
    "    print(classification_report(y_true, y_pred, target_names=['Negative', 'Neutral', 'Positive']))"
   ]
  },
  {
   "cell_type": "code",
   "execution_count": 41,
   "id": "76db7125",
   "metadata": {},
   "outputs": [
    {
     "name": "stdout",
     "output_type": "stream",
     "text": [
      "\n",
      "Estimator: Logistic Regression with CountVectorizer\n",
      "\n",
      "Metrics for Logistic Regression with CountVectorizer:\n",
      "Accuracy: 0.648\n",
      "Precision: 0.653\n",
      "Recall: 0.648\n",
      "F1 Score: 0.649\n"
     ]
    },
    {
     "data": {
      "image/png": "[encoded data removed]",
      "text/plain": [
       "<Figure size 576x432 with 2 Axes>"
      ]
     },
     "metadata": {
      "needs_background": "light"
     },
     "output_type": "display_data"
    },
    {
     "name": "stdout",
     "output_type": "stream",
     "text": [
      "Classification Report:\n",
      "              precision    recall  f1-score   support\n",
      "\n",
      "    Negative       0.62      0.58      0.60      1902\n",
      "     Neutral       0.60      0.69      0.64      2436\n",
      "    Positive       0.73      0.67      0.70      2450\n",
      "\n",
      "    accuracy                           0.65      6788\n",
      "   macro avg       0.65      0.64      0.65      6788\n",
      "weighted avg       0.65      0.65      0.65      6788\n",
      "\n",
      "\n",
      "Estimator: Logistic Regression with Tfidf\n",
      "\n",
      "Metrics for Logistic Regression with Tfidf:\n",
      "Accuracy: 0.649\n",
      "Precision: 0.655\n",
      "Recall: 0.649\n",
      "F1 Score: 0.651\n"
     ]
    },
    {
     "data": {
      "image/png": "[encoded data removed]",
      "text/plain": [
       "<Figure size 576x432 with 2 Axes>"
      ]
     },
     "metadata": {
      "needs_background": "light"
     },
     "output_type": "display_data"
    },
    {
     "name": "stdout",
     "output_type": "stream",
     "text": [
      "Classification Report:\n",
      "              precision    recall  f1-score   support\n",
      "\n",
      "    Negative       0.59      0.63      0.61      1902\n",
      "     Neutral       0.61      0.65      0.63      2436\n",
      "    Positive       0.75      0.66      0.70      2450\n",
      "\n",
      "    accuracy                           0.65      6788\n",
      "   macro avg       0.65      0.65      0.65      6788\n",
      "weighted avg       0.65      0.65      0.65      6788\n",
      "\n",
      "\n",
      "Estimator: Logistic Regression with w2v\n",
      "\n",
      "Metrics for Logistic Regression with w2v:\n",
      "Accuracy: 0.425\n",
      "Precision: 0.430\n",
      "Recall: 0.425\n",
      "F1 Score: 0.425\n"
     ]
    },
    {
     "data": {
      "image/png": "[encoded data removed]",
      "text/plain": [
       "<Figure size 576x432 with 2 Axes>"
      ]
     },
     "metadata": {
      "needs_background": "light"
     },
     "output_type": "display_data"
    },
    {
     "name": "stdout",
     "output_type": "stream",
     "text": [
      "Classification Report:\n",
      "              precision    recall  f1-score   support\n",
      "\n",
      "    Negative       0.35      0.40      0.37      1902\n",
      "     Neutral       0.46      0.38      0.42      2436\n",
      "    Positive       0.46      0.49      0.47      2450\n",
      "\n",
      "    accuracy                           0.43      6788\n",
      "   macro avg       0.42      0.42      0.42      6788\n",
      "weighted avg       0.43      0.43      0.43      6788\n",
      "\n",
      "\n",
      "Estimator: Logistic Regression with d2v\n",
      "\n",
      "Metrics for Logistic Regression with d2v:\n",
      "Accuracy: 0.418\n",
      "Precision: 0.422\n",
      "Recall: 0.418\n",
      "F1 Score: 0.419\n"
     ]
    },
    {
     "data": {
      "image/png": "[encoded data removed]",
      "text/plain": [
       "<Figure size 576x432 with 2 Axes>"
      ]
     },
     "metadata": {
      "needs_background": "light"
     },
     "output_type": "display_data"
    },
    {
     "name": "stdout",
     "output_type": "stream",
     "text": [
      "Classification Report:\n",
      "              precision    recall  f1-score   support\n",
      "\n",
      "    Negative       0.36      0.41      0.38      1902\n",
      "     Neutral       0.45      0.38      0.41      2436\n",
      "    Positive       0.44      0.46      0.45      2450\n",
      "\n",
      "    accuracy                           0.42      6788\n",
      "   macro avg       0.42      0.42      0.42      6788\n",
      "weighted avg       0.42      0.42      0.42      6788\n",
      "\n",
      "\n",
      "Estimator: Random Forest with CountVectorizer\n",
      "\n",
      "Metrics for Random Forest with CountVectorizer:\n",
      "Accuracy: 0.619\n",
      "Precision: 0.635\n",
      "Recall: 0.619\n",
      "F1 Score: 0.610\n"
     ]
    },
    {
     "data": {
      "image/png": "[encoded data removed]",
      "text/plain": [
       "<Figure size 576x432 with 2 Axes>"
      ]
     },
     "metadata": {
      "needs_background": "light"
     },
     "output_type": "display_data"
    },
    {
     "name": "stdout",
     "output_type": "stream",
     "text": [
      "Classification Report:\n",
      "              precision    recall  f1-score   support\n",
      "\n",
      "    Negative       0.68      0.38      0.49      1902\n",
      "     Neutral       0.55      0.75      0.64      2436\n",
      "    Positive       0.69      0.67      0.68      2450\n",
      "\n",
      "    accuracy                           0.62      6788\n",
      "   macro avg       0.64      0.60      0.60      6788\n",
      "weighted avg       0.64      0.62      0.61      6788\n",
      "\n",
      "\n",
      "Estimator: Random Forest with Tfidf\n",
      "\n",
      "Metrics for Random Forest with Tfidf:\n",
      "Accuracy: 0.631\n",
      "Precision: 0.641\n",
      "Recall: 0.631\n",
      "F1 Score: 0.625\n"
     ]
    },
    {
     "data": {
      "image/png": "[encoded data removed]",
      "text/plain": [
       "<Figure size 576x432 with 2 Axes>"
      ]
     },
     "metadata": {
      "needs_background": "light"
     },
     "output_type": "display_data"
    },
    {
     "name": "stdout",
     "output_type": "stream",
     "text": [
      "Classification Report:\n",
      "              precision    recall  f1-score   support\n",
      "\n",
      "    Negative       0.66      0.44      0.53      1902\n",
      "     Neutral       0.57      0.74      0.64      2436\n",
      "    Positive       0.70      0.67      0.68      2450\n",
      "\n",
      "    accuracy                           0.63      6788\n",
      "   macro avg       0.64      0.62      0.62      6788\n",
      "weighted avg       0.64      0.63      0.63      6788\n",
      "\n",
      "\n",
      "Estimator: Random Forest with w2v\n",
      "\n",
      "Metrics for Random Forest with w2v:\n",
      "Accuracy: 0.488\n",
      "Precision: 0.479\n",
      "Recall: 0.488\n",
      "F1 Score: 0.473\n"
     ]
    },
    {
     "data": {
      "image/png": "[encoded data removed]",
      "text/plain": [
       "<Figure size 576x432 with 2 Axes>"
      ]
     },
     "metadata": {
      "needs_background": "light"
     },
     "output_type": "display_data"
    },
    {
     "name": "stdout",
     "output_type": "stream",
     "text": [
      "Classification Report:\n",
      "              precision    recall  f1-score   support\n",
      "\n",
      "    Negative       0.43      0.23      0.30      1902\n",
      "     Neutral       0.51      0.59      0.55      2436\n",
      "    Positive       0.49      0.58      0.53      2450\n",
      "\n",
      "    accuracy                           0.49      6788\n",
      "   macro avg       0.48      0.47      0.46      6788\n",
      "weighted avg       0.48      0.49      0.47      6788\n",
      "\n",
      "\n",
      "Estimator: Random Forest with d2v\n",
      "\n",
      "Metrics for Random Forest with d2v:\n",
      "Accuracy: 0.443\n",
      "Precision: 0.435\n",
      "Recall: 0.443\n",
      "F1 Score: 0.429\n"
     ]
    },
    {
     "data": {
      "image/png": "[encoded data removed]",
      "text/plain": [
       "<Figure size 576x432 with 2 Axes>"
      ]
     },
     "metadata": {
      "needs_background": "light"
     },
     "output_type": "display_data"
    },
    {
     "name": "stdout",
     "output_type": "stream",
     "text": [
      "Classification Report:\n",
      "              precision    recall  f1-score   support\n",
      "\n",
      "    Negative       0.38      0.21      0.27      1902\n",
      "     Neutral       0.48      0.51      0.49      2436\n",
      "    Positive       0.44      0.55      0.49      2450\n",
      "\n",
      "    accuracy                           0.44      6788\n",
      "   macro avg       0.43      0.43      0.42      6788\n",
      "weighted avg       0.43      0.44      0.43      6788\n",
      "\n"
     ]
    }
   ],
   "source": [
    "from sklearn.metrics import accuracy_score\n",
    "\n",
    "for idx, gs in enumerate(pipeline_list):\n",
    "    print('\\nEstimator: %s' % pipeline_dict[idx])\n",
    "    \n",
    "    if pipeline_dict[idx] == 'Logistic Regression with w2v' or pipeline_dict[idx] == 'Random Forest with w2v':\n",
    "        train_features1 = train_features_w2v\n",
    "        test_features1 = test_features_w2v\n",
    "    elif pipeline_dict[idx] == 'Logistic Regression with d2v' or pipeline_dict[idx] == 'Random Forest with d2v':\n",
    "        train_features1 = train_sentence_vectors\n",
    "        test_features1 = test_sentence_vectors\n",
    "    else:\n",
    "        train_features1 = np.array(train_features)\n",
    "        test_features1 = np.array(test_features)\n",
    "    \n",
    "    gs.fit(train_features1, train_target)\n",
    "    \n",
    "    # Predict on test data with best params\n",
    "    y_pred = gs.predict(test_features1)\n",
    "    \n",
    "    evaluate_and_visualize(pipeline_dict[idx], test_target, y_pred)\n"
   ]
  },
  {
   "cell_type": "code",
   "execution_count": null,
   "id": "21e9b942",
   "metadata": {},
   "outputs": [],
   "source": []
  }
 ],
 "metadata": {
  "kernelspec": {
   "display_name": "Python 3 (ipykernel)",
   "language": "python",
   "name": "python3"
  },
  "language_info": {
   "codemirror_mode": {
    "name": "ipython",
    "version": 3
   },
   "file_extension": ".py",
   "mimetype": "text/x-python",
   "name": "python",
   "nbconvert_exporter": "python",
   "pygments_lexer": "ipython3",
   "version": "3.9.7"
  }
 },
 "nbformat": 4,
 "nbformat_minor": 5
}
