{
 "cells": [
  {
   "cell_type": "code",
   "execution_count": 60,
   "metadata": {
    "id": "OW7H-1reXsmQ"
   },
   "outputs": [],
   "source": [
    "import numpy as np\n",
    "import pandas as pd\n",
    "import matplotlib.pyplot as plt\n",
    "import seaborn as sns\n",
    "import re\n",
    "import string\n",
    "import gc\n",
    "import warnings\n",
    "from joblib import dump, load\n",
    "warnings.filterwarnings('ignore')\n",
    "from sklearn.feature_extraction.text import TfidfVectorizer, CountVectorizer\n",
    "from sklearn.cluster import KMeans\n",
    "from sklearn.metrics import adjusted_rand_score\n",
    "from wordcloud import WordCloud, STOPWORDS, ImageColorGenerator\n",
    "from sklearn.model_selection import cross_val_score, KFold\n",
    "from scipy.stats import sem\n",
    "from sklearn.model_selection import train_test_split\n",
    "from sklearn.svm import SVC\n",
    "from sklearn.model_selection import GridSearchCV\n",
    "from sklearn import svm\n",
    "from sklearn.pipeline import Pipeline\n",
    "from sklearn.metrics import accuracy_score, precision_score, recall_score, f1_score, confusion_matrix, classification_report"
   ]
  },
  {
   "cell_type": "code",
   "execution_count": 56,
   "metadata": {
    "id": "Eky0yMFDYcJg"
   },
   "outputs": [],
   "source": [
    "def load_data():\n",
    "    data = pd.read_csv('Roman Urdu DataSet.csv', header=None)\n",
    "    return data"
   ]
  },
  {
   "cell_type": "code",
   "execution_count": 33,
   "metadata": {
    "colab": {
     "base_uri": "https://localhost:8080/",
     "height": 206
    },
    "id": "iXz7Q2yyYov1",
    "outputId": "88ef6ba9-b81f-4e6d-e4e8-ace0306f2cba"
   },
   "outputs": [
    {
     "data": {
      "text/html": [
       "<div>\n",
       "<style scoped>\n",
       "    .dataframe tbody tr th:only-of-type {\n",
       "        vertical-align: middle;\n",
       "    }\n",
       "\n",
       "    .dataframe tbody tr th {\n",
       "        vertical-align: top;\n",
       "    }\n",
       "\n",
       "    .dataframe thead th {\n",
       "        text-align: right;\n",
       "    }\n",
       "</style>\n",
       "<table border=\"1\" class=\"dataframe\">\n",
       "  <thead>\n",
       "    <tr style=\"text-align: right;\">\n",
       "      <th></th>\n",
       "      <th>0</th>\n",
       "      <th>1</th>\n",
       "      <th>2</th>\n",
       "    </tr>\n",
       "  </thead>\n",
       "  <tbody>\n",
       "    <tr>\n",
       "      <th>0</th>\n",
       "      <td>Sai kha ya her kisi kay bus ki bat nhi hai lak...</td>\n",
       "      <td>Positive</td>\n",
       "      <td>NaN</td>\n",
       "    </tr>\n",
       "    <tr>\n",
       "      <th>1</th>\n",
       "      <td>sahi bt h</td>\n",
       "      <td>Positive</td>\n",
       "      <td>NaN</td>\n",
       "    </tr>\n",
       "    <tr>\n",
       "      <th>2</th>\n",
       "      <td>Kya bt hai,</td>\n",
       "      <td>Positive</td>\n",
       "      <td>NaN</td>\n",
       "    </tr>\n",
       "    <tr>\n",
       "      <th>3</th>\n",
       "      <td>Wah je wah</td>\n",
       "      <td>Positive</td>\n",
       "      <td>NaN</td>\n",
       "    </tr>\n",
       "    <tr>\n",
       "      <th>4</th>\n",
       "      <td>Are wha kaya bat hai</td>\n",
       "      <td>Positive</td>\n",
       "      <td>NaN</td>\n",
       "    </tr>\n",
       "  </tbody>\n",
       "</table>\n",
       "</div>"
      ],
      "text/plain": [
       "                                                   0         1    2\n",
       "0  Sai kha ya her kisi kay bus ki bat nhi hai lak...  Positive  NaN\n",
       "1                                          sahi bt h  Positive  NaN\n",
       "2                                        Kya bt hai,  Positive  NaN\n",
       "3                                         Wah je wah  Positive  NaN\n",
       "4                               Are wha kaya bat hai  Positive  NaN"
      ]
     },
     "execution_count": 33,
     "metadata": {},
     "output_type": "execute_result"
    }
   ],
   "source": [
    "roman_urdu_df= load_data()\n",
    "roman_urdu_df.head()"
   ]
  },
  {
   "cell_type": "code",
   "execution_count": 34,
   "metadata": {
    "id": "MVW7Fk_5Yx2W"
   },
   "outputs": [],
   "source": [
    "roman_urdu_df = roman_urdu_df.drop([2], axis=1)"
   ]
  },
  {
   "cell_type": "code",
   "execution_count": 35,
   "metadata": {
    "id": "DLNSboLrY5lV"
   },
   "outputs": [],
   "source": [
    "roman_urdu_df.columns = ['Review', 'Sentiment']"
   ]
  },
  {
   "cell_type": "code",
   "execution_count": 36,
   "metadata": {
    "colab": {
     "base_uri": "https://localhost:8080/"
    },
    "id": "JGk8KpYaY_mD",
    "outputId": "da417044-ff67-4f67-fcbe-e990bdff9971"
   },
   "outputs": [
    {
     "data": {
      "text/plain": [
       "Review       1\n",
       "Sentiment    0\n",
       "dtype: int64"
      ]
     },
     "execution_count": 36,
     "metadata": {},
     "output_type": "execute_result"
    }
   ],
   "source": [
    "roman_urdu_df.isnull().sum()"
   ]
  },
  {
   "cell_type": "code",
   "execution_count": 37,
   "metadata": {
    "id": "GiiQcSW4ZCZA"
   },
   "outputs": [],
   "source": [
    "roman_urdu_df.dropna(inplace = True)"
   ]
  },
  {
   "cell_type": "code",
   "execution_count": 38,
   "metadata": {
    "colab": {
     "base_uri": "https://localhost:8080/"
    },
    "id": "WR5S-rcPZF5c",
    "outputId": "53bdca5d-a2fd-4e12-b656-4988dee52956"
   },
   "outputs": [
    {
     "data": {
      "text/plain": [
       "Review       0\n",
       "Sentiment    0\n",
       "dtype: int64"
      ]
     },
     "execution_count": 38,
     "metadata": {},
     "output_type": "execute_result"
    }
   ],
   "source": [
    "roman_urdu_df.isnull().sum()"
   ]
  },
  {
   "cell_type": "code",
   "execution_count": 39,
   "metadata": {
    "colab": {
     "base_uri": "https://localhost:8080/"
    },
    "id": "rRfojX8gZHOZ",
    "outputId": "2c4e53f4-81de-4be6-94c5-5fa71f5a6854"
   },
   "outputs": [
    {
     "data": {
      "text/plain": [
       "Neutral     8928\n",
       "Positive    6013\n",
       "Negative    5286\n",
       "Neative        1\n",
       "Name: Sentiment, dtype: int64"
      ]
     },
     "execution_count": 39,
     "metadata": {},
     "output_type": "execute_result"
    }
   ],
   "source": [
    "roman_urdu_df['Sentiment'].value_counts()"
   ]
  },
  {
   "cell_type": "code",
   "execution_count": 40,
   "metadata": {
    "colab": {
     "base_uri": "https://localhost:8080/",
     "height": 80
    },
    "id": "E12Jt2ZkZLl5",
    "outputId": "a9fdbc35-5b44-49c0-f68a-fface0ef725b"
   },
   "outputs": [
    {
     "data": {
      "text/html": [
       "<div>\n",
       "<style scoped>\n",
       "    .dataframe tbody tr th:only-of-type {\n",
       "        vertical-align: middle;\n",
       "    }\n",
       "\n",
       "    .dataframe tbody tr th {\n",
       "        vertical-align: top;\n",
       "    }\n",
       "\n",
       "    .dataframe thead th {\n",
       "        text-align: right;\n",
       "    }\n",
       "</style>\n",
       "<table border=\"1\" class=\"dataframe\">\n",
       "  <thead>\n",
       "    <tr style=\"text-align: right;\">\n",
       "      <th></th>\n",
       "      <th>Review</th>\n",
       "      <th>Sentiment</th>\n",
       "    </tr>\n",
       "  </thead>\n",
       "  <tbody>\n",
       "    <tr>\n",
       "      <th>13277</th>\n",
       "      <td>product achi hai but wrong waist size send kar...</td>\n",
       "      <td>Neative</td>\n",
       "    </tr>\n",
       "  </tbody>\n",
       "</table>\n",
       "</div>"
      ],
      "text/plain": [
       "                                                  Review Sentiment\n",
       "13277  product achi hai but wrong waist size send kar...   Neative"
      ]
     },
     "execution_count": 40,
     "metadata": {},
     "output_type": "execute_result"
    }
   ],
   "source": [
    "roman_urdu_df[roman_urdu_df['Sentiment'] == 'Neative']"
   ]
  },
  {
   "cell_type": "code",
   "execution_count": 41,
   "metadata": {
    "id": "UvaBLuioZTl_"
   },
   "outputs": [],
   "source": [
    "roman_urdu_df.loc[roman_urdu_df['Sentiment']=='Neative', 'Sentiment'] = 'Negative'\n"
   ]
  },
  {
   "cell_type": "code",
   "execution_count": 42,
   "metadata": {
    "colab": {
     "base_uri": "https://localhost:8080/",
     "height": 362
    },
    "id": "BHnTHxKYZaxq",
    "outputId": "ac7a4293-3bd3-42ba-b404-e0f0443797b6"
   },
   "outputs": [
    {
     "data": {
      "text/html": [
       "<div>\n",
       "<style scoped>\n",
       "    .dataframe tbody tr th:only-of-type {\n",
       "        vertical-align: middle;\n",
       "    }\n",
       "\n",
       "    .dataframe tbody tr th {\n",
       "        vertical-align: top;\n",
       "    }\n",
       "\n",
       "    .dataframe thead th {\n",
       "        text-align: right;\n",
       "    }\n",
       "</style>\n",
       "<table border=\"1\" class=\"dataframe\">\n",
       "  <thead>\n",
       "    <tr style=\"text-align: right;\">\n",
       "      <th></th>\n",
       "      <th>Review</th>\n",
       "      <th>Sentiment</th>\n",
       "    </tr>\n",
       "  </thead>\n",
       "  <tbody>\n",
       "    <tr>\n",
       "      <th>0</th>\n",
       "      <td>Sai kha ya her kisi kay bus ki bat nhi hai lak...</td>\n",
       "      <td>Positive</td>\n",
       "    </tr>\n",
       "    <tr>\n",
       "      <th>1</th>\n",
       "      <td>sahi bt h</td>\n",
       "      <td>Positive</td>\n",
       "    </tr>\n",
       "    <tr>\n",
       "      <th>2</th>\n",
       "      <td>Kya bt hai,</td>\n",
       "      <td>Positive</td>\n",
       "    </tr>\n",
       "    <tr>\n",
       "      <th>3</th>\n",
       "      <td>Wah je wah</td>\n",
       "      <td>Positive</td>\n",
       "    </tr>\n",
       "    <tr>\n",
       "      <th>4</th>\n",
       "      <td>Are wha kaya bat hai</td>\n",
       "      <td>Positive</td>\n",
       "    </tr>\n",
       "    <tr>\n",
       "      <th>5</th>\n",
       "      <td>Wah kya baat likhi</td>\n",
       "      <td>Positive</td>\n",
       "    </tr>\n",
       "    <tr>\n",
       "      <th>6</th>\n",
       "      <td>Wha Itni sari khubiya</td>\n",
       "      <td>Positive</td>\n",
       "    </tr>\n",
       "    <tr>\n",
       "      <th>7</th>\n",
       "      <td>Itni khubiya</td>\n",
       "      <td>Positive</td>\n",
       "    </tr>\n",
       "    <tr>\n",
       "      <th>8</th>\n",
       "      <td>Ya allah rehm farma hm sab pe or zalimo ko hid...</td>\n",
       "      <td>Positive</td>\n",
       "    </tr>\n",
       "    <tr>\n",
       "      <th>9</th>\n",
       "      <td>Please Everyone AllAh S.w.T ka naam hAmesha Ba...</td>\n",
       "      <td>Positive</td>\n",
       "    </tr>\n",
       "  </tbody>\n",
       "</table>\n",
       "</div>"
      ],
      "text/plain": [
       "                                              Review Sentiment\n",
       "0  Sai kha ya her kisi kay bus ki bat nhi hai lak...  Positive\n",
       "1                                          sahi bt h  Positive\n",
       "2                                        Kya bt hai,  Positive\n",
       "3                                         Wah je wah  Positive\n",
       "4                               Are wha kaya bat hai  Positive\n",
       "5                                 Wah kya baat likhi  Positive\n",
       "6                              Wha Itni sari khubiya  Positive\n",
       "7                                       Itni khubiya  Positive\n",
       "8  Ya allah rehm farma hm sab pe or zalimo ko hid...  Positive\n",
       "9  Please Everyone AllAh S.w.T ka naam hAmesha Ba...  Positive"
      ]
     },
     "execution_count": 42,
     "metadata": {},
     "output_type": "execute_result"
    }
   ],
   "source": [
    "df  = pd.DataFrame(roman_urdu_df[['Review', 'Sentiment']])\n",
    "df.head(10)"
   ]
  },
  {
   "cell_type": "code",
   "execution_count": 43,
   "metadata": {
    "id": "1pz0ke1FZ0cn"
   },
   "outputs": [],
   "source": [
    "def remove_punct(text):\n",
    "    text  = \"\".join([char for [char] in text if char not in string.punctuation])\n",
    "    text = re.sub('[0-9]+', '', text)\n",
    "    return text\n",
    "\n",
    "def convert_to_lower_case(text):\n",
    "    text  = \"\".join([char.lower() for [char] in text if char not in string.punctuation])\n",
    "    return text\n"
   ]
  },
  {
   "cell_type": "code",
   "execution_count": 44,
   "metadata": {
    "colab": {
     "base_uri": "https://localhost:8080/",
     "height": 223
    },
    "id": "80_nMbXkagMw",
    "outputId": "06c566ff-a3d0-48e5-9823-043a7289b4d2"
   },
   "outputs": [
    {
     "data": {
      "text/html": [
       "<div>\n",
       "<style scoped>\n",
       "    .dataframe tbody tr th:only-of-type {\n",
       "        vertical-align: middle;\n",
       "    }\n",
       "\n",
       "    .dataframe tbody tr th {\n",
       "        vertical-align: top;\n",
       "    }\n",
       "\n",
       "    .dataframe thead th {\n",
       "        text-align: right;\n",
       "    }\n",
       "</style>\n",
       "<table border=\"1\" class=\"dataframe\">\n",
       "  <thead>\n",
       "    <tr style=\"text-align: right;\">\n",
       "      <th></th>\n",
       "      <th>Review</th>\n",
       "      <th>Sentiment</th>\n",
       "      <th>Sentence_Removal</th>\n",
       "      <th>Lower_Case</th>\n",
       "    </tr>\n",
       "  </thead>\n",
       "  <tbody>\n",
       "    <tr>\n",
       "      <th>0</th>\n",
       "      <td>Sai kha ya her kisi kay bus ki bat nhi hai lak...</td>\n",
       "      <td>Positive</td>\n",
       "      <td>Sai kha ya her kisi kay bus ki bat nhi hai lak...</td>\n",
       "      <td>sai kha ya her kisi kay bus ki bat nhi hai lak...</td>\n",
       "    </tr>\n",
       "    <tr>\n",
       "      <th>1</th>\n",
       "      <td>sahi bt h</td>\n",
       "      <td>Positive</td>\n",
       "      <td>sahi bt h</td>\n",
       "      <td>sahi bt h</td>\n",
       "    </tr>\n",
       "    <tr>\n",
       "      <th>2</th>\n",
       "      <td>Kya bt hai,</td>\n",
       "      <td>Positive</td>\n",
       "      <td>Kya bt hai</td>\n",
       "      <td>kya bt hai</td>\n",
       "    </tr>\n",
       "    <tr>\n",
       "      <th>3</th>\n",
       "      <td>Wah je wah</td>\n",
       "      <td>Positive</td>\n",
       "      <td>Wah je wah</td>\n",
       "      <td>wah je wah</td>\n",
       "    </tr>\n",
       "    <tr>\n",
       "      <th>4</th>\n",
       "      <td>Are wha kaya bat hai</td>\n",
       "      <td>Positive</td>\n",
       "      <td>Are wha kaya bat hai</td>\n",
       "      <td>are wha kaya bat hai</td>\n",
       "    </tr>\n",
       "  </tbody>\n",
       "</table>\n",
       "</div>"
      ],
      "text/plain": [
       "                                              Review Sentiment  \\\n",
       "0  Sai kha ya her kisi kay bus ki bat nhi hai lak...  Positive   \n",
       "1                                          sahi bt h  Positive   \n",
       "2                                        Kya bt hai,  Positive   \n",
       "3                                         Wah je wah  Positive   \n",
       "4                               Are wha kaya bat hai  Positive   \n",
       "\n",
       "                                    Sentence_Removal  \\\n",
       "0  Sai kha ya her kisi kay bus ki bat nhi hai lak...   \n",
       "1                                          sahi bt h   \n",
       "2                                         Kya bt hai   \n",
       "3                                         Wah je wah   \n",
       "4                               Are wha kaya bat hai   \n",
       "\n",
       "                                          Lower_Case  \n",
       "0  sai kha ya her kisi kay bus ki bat nhi hai lak...  \n",
       "1                                          sahi bt h  \n",
       "2                                         kya bt hai  \n",
       "3                                         wah je wah  \n",
       "4                               are wha kaya bat hai  "
      ]
     },
     "execution_count": 44,
     "metadata": {},
     "output_type": "execute_result"
    }
   ],
   "source": [
    "df['Sentence_Removal'] = df['Review'].apply(lambda x: remove_punct(str(x)))\n",
    "df['Lower_Case'] = df['Sentence_Removal'].apply(lambda x: convert_to_lower_case(str(x)))\n",
    "df.head()"
   ]
  },
  {
   "cell_type": "code",
   "execution_count": 45,
   "metadata": {
    "id": "cvpAKtrJb-xS"
   },
   "outputs": [],
   "source": [
    "stopwords=['ai', 'ayi', 'hy', 'hai', 'main', 'ki', 'tha', 'koi', 'ko', 'sy', 'woh', 'bhi', 'aur', 'wo', 'yeh', 'rha',\n",
    "           'hota', 'ho', 'ga', 'ka', 'le', 'lye', 'kr', 'kar', 'lye', 'liye', 'hotay', 'waisay', 'gya', 'gaya', 'kch',\n",
    "           'ab', 'thy', 'thay', 'houn', 'hain', 'han', 'to','is', 'hi', 'jo', 'kya', 'thi', 'se', 'pe', 'phr', 'wala',\n",
    "           'waisay', 'us', 'na', 'ny', 'hun', 'rha', 'raha', 'ja', 'rahay', 'abi', 'uski', 'ne', 'haan', 'acha', 'nai',\n",
    "           'sent', 'photo', 'you', 'kafi', 'gai', 'rhy', 'kuch', 'jata', 'aye', 'ya', 'dono', 'hoa', 'aese', 'de', 'wohi',\n",
    "           'jati', 'jb', 'krta', 'lg', 'rahi', 'hui', 'karna', 'krna', 'gi', 'hova', 'yehi', 'jana', 'jye', 'chal', 'mil',\n",
    "           'tu', 'hum', 'par', 'hay', 'kis', 'sb', 'gy', 'dain', 'krny', 'tou']"
   ]
  },
  {
   "cell_type": "code",
   "execution_count": 46,
   "metadata": {
    "id": "B1obcJbmcJcG"
   },
   "outputs": [],
   "source": [
    "dictStopWords = {}\n",
    "def removeStopWordss(text):\n",
    "    text = re.sub('[^a-zA-Z]',' ',str(text))\n",
    "    text = text.lower()\n",
    "    wordList =str(text).split()\n",
    "    for word in wordList:\n",
    "        if word in stopwords:\n",
    "            wordList.remove(word)\n",
    "            if word not in dictStopWords:\n",
    "                dictStopWords[word]= 1\n",
    "            else:\n",
    "                dictStopWords[word] = dictStopWords[word] + 1\n",
    "    newSentence = \" \".join(wordList)\n",
    "    return (newSentence)"
   ]
  },
  {
   "cell_type": "code",
   "execution_count": 47,
   "metadata": {
    "colab": {
     "base_uri": "https://localhost:8080/",
     "height": 223
    },
    "id": "uXo10XbecjgO",
    "outputId": "10a3e015-fbe1-40ce-a076-54883ed08877"
   },
   "outputs": [
    {
     "data": {
      "text/html": [
       "<div>\n",
       "<style scoped>\n",
       "    .dataframe tbody tr th:only-of-type {\n",
       "        vertical-align: middle;\n",
       "    }\n",
       "\n",
       "    .dataframe tbody tr th {\n",
       "        vertical-align: top;\n",
       "    }\n",
       "\n",
       "    .dataframe thead th {\n",
       "        text-align: right;\n",
       "    }\n",
       "</style>\n",
       "<table border=\"1\" class=\"dataframe\">\n",
       "  <thead>\n",
       "    <tr style=\"text-align: right;\">\n",
       "      <th></th>\n",
       "      <th>Review</th>\n",
       "      <th>Sentiment</th>\n",
       "      <th>Sentence_Removal</th>\n",
       "      <th>Lower_Case</th>\n",
       "      <th>Sen_Out_StopWord</th>\n",
       "    </tr>\n",
       "  </thead>\n",
       "  <tbody>\n",
       "    <tr>\n",
       "      <th>0</th>\n",
       "      <td>Sai kha ya her kisi kay bus ki bat nhi hai lak...</td>\n",
       "      <td>Positive</td>\n",
       "      <td>Sai kha ya her kisi kay bus ki bat nhi hai lak...</td>\n",
       "      <td>sai kha ya her kisi kay bus ki bat nhi hai lak...</td>\n",
       "      <td>sai kha her kisi kay bus bat nhi lakin ki hal ...</td>\n",
       "    </tr>\n",
       "    <tr>\n",
       "      <th>1</th>\n",
       "      <td>sahi bt h</td>\n",
       "      <td>Positive</td>\n",
       "      <td>sahi bt h</td>\n",
       "      <td>sahi bt h</td>\n",
       "      <td>sahi bt h</td>\n",
       "    </tr>\n",
       "    <tr>\n",
       "      <th>2</th>\n",
       "      <td>Kya bt hai,</td>\n",
       "      <td>Positive</td>\n",
       "      <td>Kya bt hai</td>\n",
       "      <td>kya bt hai</td>\n",
       "      <td>bt</td>\n",
       "    </tr>\n",
       "    <tr>\n",
       "      <th>3</th>\n",
       "      <td>Wah je wah</td>\n",
       "      <td>Positive</td>\n",
       "      <td>Wah je wah</td>\n",
       "      <td>wah je wah</td>\n",
       "      <td>wah je wah</td>\n",
       "    </tr>\n",
       "    <tr>\n",
       "      <th>4</th>\n",
       "      <td>Are wha kaya bat hai</td>\n",
       "      <td>Positive</td>\n",
       "      <td>Are wha kaya bat hai</td>\n",
       "      <td>are wha kaya bat hai</td>\n",
       "      <td>are wha kaya bat</td>\n",
       "    </tr>\n",
       "  </tbody>\n",
       "</table>\n",
       "</div>"
      ],
      "text/plain": [
       "                                              Review Sentiment  \\\n",
       "0  Sai kha ya her kisi kay bus ki bat nhi hai lak...  Positive   \n",
       "1                                          sahi bt h  Positive   \n",
       "2                                        Kya bt hai,  Positive   \n",
       "3                                         Wah je wah  Positive   \n",
       "4                               Are wha kaya bat hai  Positive   \n",
       "\n",
       "                                    Sentence_Removal  \\\n",
       "0  Sai kha ya her kisi kay bus ki bat nhi hai lak...   \n",
       "1                                          sahi bt h   \n",
       "2                                         Kya bt hai   \n",
       "3                                         Wah je wah   \n",
       "4                               Are wha kaya bat hai   \n",
       "\n",
       "                                          Lower_Case  \\\n",
       "0  sai kha ya her kisi kay bus ki bat nhi hai lak...   \n",
       "1                                          sahi bt h   \n",
       "2                                         kya bt hai   \n",
       "3                                         wah je wah   \n",
       "4                               are wha kaya bat hai   \n",
       "\n",
       "                                    Sen_Out_StopWord  \n",
       "0  sai kha her kisi kay bus bat nhi lakin ki hal ...  \n",
       "1                                          sahi bt h  \n",
       "2                                                 bt  \n",
       "3                                         wah je wah  \n",
       "4                                   are wha kaya bat  "
      ]
     },
     "execution_count": 47,
     "metadata": {},
     "output_type": "execute_result"
    }
   ],
   "source": [
    "df['Sen_Out_StopWord'] = df['Lower_Case'].apply(lambda x: removeStopWordss(x))\n",
    "df.head()"
   ]
  },
  {
   "cell_type": "code",
   "execution_count": 48,
   "metadata": {
    "colab": {
     "base_uri": "https://localhost:8080/"
    },
    "id": "G5ZR9bIocfBf",
    "outputId": "0ca0e803-6ec8-44f1-8fd4-bae3fae2308b"
   },
   "outputs": [
    {
     "data": {
      "text/plain": [
       "{'ki': 5578,\n",
       " 'ko': 3471,\n",
       " 'ka': 3466,\n",
       " 'hai': 3296,\n",
       " 'se': 3110,\n",
       " 'aur': 2629,\n",
       " 'ne': 1948,\n",
       " 'hain': 1536,\n",
       " 'ho': 1514,\n",
       " 'bhi': 1341}"
      ]
     },
     "execution_count": 48,
     "metadata": {},
     "output_type": "execute_result"
    }
   ],
   "source": [
    "import collections\n",
    "from collections import Counter\n",
    "dictGraph = {}\n",
    "d = Counter(dictStopWords) # creating a counter\n",
    "d.most_common(10)\n",
    "for k,v in d.most_common(10):\n",
    "    dictGraph[k] = v\n",
    "dictGraph"
   ]
  },
  {
   "cell_type": "code",
   "execution_count": 49,
   "metadata": {
    "id": "RWGUHoOhcnxB"
   },
   "outputs": [],
   "source": [
    "def hashing(word):\n",
    "    word = re.sub(r'ain$', r'ein', word)\n",
    "    word = re.sub(r'ai', r'ae', word)\n",
    "    word = re.sub(r'ay$', r'e', word)\n",
    "    word = re.sub(r'ey$', r'e', word)\n",
    "    word = re.sub(r'ie$', r'y', word)\n",
    "    word = re.sub(r'^es', r'is', word)\n",
    "    word = re.sub(r'a+', r'a', word)\n",
    "    word = re.sub(r'j+', r'j', word)\n",
    "    word = re.sub(r'd+', r'd', word)\n",
    "    word = re.sub(r'u', r'o', word)\n",
    "    word = re.sub(r'o+', r'o', word)\n",
    "    word = re.sub(r'ee+', r'i', word)\n",
    "    if not re.match(r'ar', word):\n",
    "        word = re.sub(r'ar', r'r', word)\n",
    "        word = re.sub(r'iy+', r'i', word)\n",
    "        word = re.sub(r'ih+', r'eh', word)\n",
    "        word = re.sub(r's+', r's', word)\n",
    "    if re.search(r'[rst]y', 'word') and word[-1] != 'y':\n",
    "        word = re.sub(r'y', r'i', word)\n",
    "    if re.search(r'[bcdefghijklmnopqrtuvwxyz]i', word):\n",
    "        word = re.sub(r'i$', r'y', word)\n",
    "    if re.search(r'[acefghijlmnoqrstuvwxyz]h', word):\n",
    "        word = re.sub(r'h', '', word)\n",
    "        word = re.sub(r'k', r'q', word)\n",
    "    return word"
   ]
  },
  {
   "cell_type": "code",
   "execution_count": 50,
   "metadata": {
    "colab": {
     "base_uri": "https://localhost:8080/",
     "height": 240
    },
    "id": "EnHMI5i1cs6H",
    "outputId": "12f4d416-2b90-4360-b5fe-e8dfe6a33846"
   },
   "outputs": [
    {
     "data": {
      "text/html": [
       "<div>\n",
       "<style scoped>\n",
       "    .dataframe tbody tr th:only-of-type {\n",
       "        vertical-align: middle;\n",
       "    }\n",
       "\n",
       "    .dataframe tbody tr th {\n",
       "        vertical-align: top;\n",
       "    }\n",
       "\n",
       "    .dataframe thead th {\n",
       "        text-align: right;\n",
       "    }\n",
       "</style>\n",
       "<table border=\"1\" class=\"dataframe\">\n",
       "  <thead>\n",
       "    <tr style=\"text-align: right;\">\n",
       "      <th></th>\n",
       "      <th>Review</th>\n",
       "      <th>Sentiment</th>\n",
       "      <th>Sentence_Removal</th>\n",
       "      <th>Lower_Case</th>\n",
       "      <th>Sen_Out_StopWord</th>\n",
       "      <th>stem</th>\n",
       "    </tr>\n",
       "  </thead>\n",
       "  <tbody>\n",
       "    <tr>\n",
       "      <th>0</th>\n",
       "      <td>Sai kha ya her kisi kay bus ki bat nhi hai lak...</td>\n",
       "      <td>Positive</td>\n",
       "      <td>Sai kha ya her kisi kay bus ki bat nhi hai lak...</td>\n",
       "      <td>sai kha ya her kisi kay bus ki bat nhi hai lak...</td>\n",
       "      <td>sai kha her kisi kay bus bat nhi lakin ki hal ...</td>\n",
       "      <td>sae qa er qisi qay bos bat ni laqin qi al qal ...</td>\n",
       "    </tr>\n",
       "    <tr>\n",
       "      <th>1</th>\n",
       "      <td>sahi bt h</td>\n",
       "      <td>Positive</td>\n",
       "      <td>sahi bt h</td>\n",
       "      <td>sahi bt h</td>\n",
       "      <td>sahi bt h</td>\n",
       "      <td>sai bt</td>\n",
       "    </tr>\n",
       "    <tr>\n",
       "      <th>2</th>\n",
       "      <td>Kya bt hai,</td>\n",
       "      <td>Positive</td>\n",
       "      <td>Kya bt hai</td>\n",
       "      <td>kya bt hai</td>\n",
       "      <td>bt</td>\n",
       "      <td>bt</td>\n",
       "    </tr>\n",
       "    <tr>\n",
       "      <th>3</th>\n",
       "      <td>Wah je wah</td>\n",
       "      <td>Positive</td>\n",
       "      <td>Wah je wah</td>\n",
       "      <td>wah je wah</td>\n",
       "      <td>wah je wah</td>\n",
       "      <td>wa je wa</td>\n",
       "    </tr>\n",
       "    <tr>\n",
       "      <th>4</th>\n",
       "      <td>Are wha kaya bat hai</td>\n",
       "      <td>Positive</td>\n",
       "      <td>Are wha kaya bat hai</td>\n",
       "      <td>are wha kaya bat hai</td>\n",
       "      <td>are wha kaya bat</td>\n",
       "      <td>are wa qaya bat</td>\n",
       "    </tr>\n",
       "  </tbody>\n",
       "</table>\n",
       "</div>"
      ],
      "text/plain": [
       "                                              Review Sentiment  \\\n",
       "0  Sai kha ya her kisi kay bus ki bat nhi hai lak...  Positive   \n",
       "1                                          sahi bt h  Positive   \n",
       "2                                        Kya bt hai,  Positive   \n",
       "3                                         Wah je wah  Positive   \n",
       "4                               Are wha kaya bat hai  Positive   \n",
       "\n",
       "                                    Sentence_Removal  \\\n",
       "0  Sai kha ya her kisi kay bus ki bat nhi hai lak...   \n",
       "1                                          sahi bt h   \n",
       "2                                         Kya bt hai   \n",
       "3                                         Wah je wah   \n",
       "4                               Are wha kaya bat hai   \n",
       "\n",
       "                                          Lower_Case  \\\n",
       "0  sai kha ya her kisi kay bus ki bat nhi hai lak...   \n",
       "1                                          sahi bt h   \n",
       "2                                         kya bt hai   \n",
       "3                                         wah je wah   \n",
       "4                               are wha kaya bat hai   \n",
       "\n",
       "                                    Sen_Out_StopWord  \\\n",
       "0  sai kha her kisi kay bus bat nhi lakin ki hal ...   \n",
       "1                                          sahi bt h   \n",
       "2                                                 bt   \n",
       "3                                         wah je wah   \n",
       "4                                   are wha kaya bat   \n",
       "\n",
       "                                                stem  \n",
       "0  sae qa er qisi qay bos bat ni laqin qi al qal ...  \n",
       "1                                            sai bt   \n",
       "2                                                 bt  \n",
       "3                                           wa je wa  \n",
       "4                                    are wa qaya bat  "
      ]
     },
     "execution_count": 50,
     "metadata": {},
     "output_type": "execute_result"
    }
   ],
   "source": [
    "df['stem'] = df['Sen_Out_StopWord'].apply(lambda x: hashing(x))\n",
    "df.head()"
   ]
  },
  {
   "cell_type": "code",
   "execution_count": 51,
   "metadata": {
    "colab": {
     "base_uri": "https://localhost:8080/",
     "height": 237
    },
    "id": "k8a5cSk_dFgk",
    "outputId": "b396756c-908c-4656-9620-f8754e1b9cc9"
   },
   "outputs": [
    {
     "data": {
      "text/html": [
       "<div>\n",
       "<style scoped>\n",
       "    .dataframe tbody tr th:only-of-type {\n",
       "        vertical-align: middle;\n",
       "    }\n",
       "\n",
       "    .dataframe tbody tr th {\n",
       "        vertical-align: top;\n",
       "    }\n",
       "\n",
       "    .dataframe thead th {\n",
       "        text-align: right;\n",
       "    }\n",
       "</style>\n",
       "<table border=\"1\" class=\"dataframe\">\n",
       "  <thead>\n",
       "    <tr style=\"text-align: right;\">\n",
       "      <th></th>\n",
       "      <th>count</th>\n",
       "      <th>unique</th>\n",
       "      <th>top</th>\n",
       "      <th>freq</th>\n",
       "    </tr>\n",
       "  </thead>\n",
       "  <tbody>\n",
       "    <tr>\n",
       "      <th>Review</th>\n",
       "      <td>20228</td>\n",
       "      <td>19664</td>\n",
       "      <td>Good</td>\n",
       "      <td>23</td>\n",
       "    </tr>\n",
       "    <tr>\n",
       "      <th>Sentiment</th>\n",
       "      <td>20228</td>\n",
       "      <td>3</td>\n",
       "      <td>Neutral</td>\n",
       "      <td>8928</td>\n",
       "    </tr>\n",
       "    <tr>\n",
       "      <th>Sentence_Removal</th>\n",
       "      <td>20228</td>\n",
       "      <td>19593</td>\n",
       "      <td></td>\n",
       "      <td>24</td>\n",
       "    </tr>\n",
       "    <tr>\n",
       "      <th>Lower_Case</th>\n",
       "      <td>20228</td>\n",
       "      <td>19528</td>\n",
       "      <td>good</td>\n",
       "      <td>32</td>\n",
       "    </tr>\n",
       "    <tr>\n",
       "      <th>Sen_Out_StopWord</th>\n",
       "      <td>20228</td>\n",
       "      <td>19363</td>\n",
       "      <td></td>\n",
       "      <td>204</td>\n",
       "    </tr>\n",
       "    <tr>\n",
       "      <th>stem</th>\n",
       "      <td>20228</td>\n",
       "      <td>19263</td>\n",
       "      <td></td>\n",
       "      <td>206</td>\n",
       "    </tr>\n",
       "  </tbody>\n",
       "</table>\n",
       "</div>"
      ],
      "text/plain": [
       "                  count unique      top  freq\n",
       "Review            20228  19664     Good    23\n",
       "Sentiment         20228      3  Neutral  8928\n",
       "Sentence_Removal  20228  19593             24\n",
       "Lower_Case        20228  19528     good    32\n",
       "Sen_Out_StopWord  20228  19363            204\n",
       "stem              20228  19263            206"
      ]
     },
     "execution_count": 51,
     "metadata": {},
     "output_type": "execute_result"
    }
   ],
   "source": [
    "df.describe().transpose()"
   ]
  },
  {
   "cell_type": "code",
   "execution_count": 52,
   "metadata": {
    "id": "b1mfRhDooge9"
   },
   "outputs": [],
   "source": [
    "def evaluate_cross_validation(clf, X, y, K):\n",
    "    # create a k-fold cross validation iterator of K folds\n",
    "    cv = KFold(n_splits=K, random_state=0, shuffle=True)\n",
    "    # by default the score used is the one returned by score method of the estimator (accuracy)\n",
    "    scores = cross_val_score(clf, X, y, cv=cv)\n",
    "    print(scores)\n",
    "    print(\"Mean score: %.3f (+/-%.3f)\" % (np.mean(scores), sem(scores)))"
   ]
  },
  {
   "cell_type": "code",
   "execution_count": 53,
   "metadata": {
    "id": "JwLTIRUxp50t"
   },
   "outputs": [],
   "source": [
    "def calc_params(X, y, clf, param_values, param_name, K):\n",
    "\n",
    "    # Convert input to Numpy arrays\n",
    "    X = np.array(X)\n",
    "    y = np.array(y)\n",
    "\n",
    "    # initialize training and testing score arrays with zeros\n",
    "    train_scores = np.zeros(len(param_values))\n",
    "    test_scores = np.zeros(len(param_values))\n",
    "\n",
    "    # iterate over the different parameter values\n",
    "    for i, param_value in enumerate(param_values):\n",
    "\n",
    "        # set classifier parameters\n",
    "        clf.set_params(**{param_name:param_value})\n",
    "\n",
    "        # initialize the K scores obtained for each fold\n",
    "        k_train_scores = np.zeros(K)\n",
    "        k_test_scores = np.zeros(K)\n",
    "\n",
    "        # create KFold cross validation\n",
    "        cv = KFold(n_splits=K, shuffle=True, random_state=0)\n",
    "\n",
    "        # iterate over the K folds\n",
    "        j = 0\n",
    "        for train, test in cv.split(X):\n",
    "            # fit the classifier in the corresponding fold\n",
    "            # and obtain the corresponding accuracy scores on train and test sets\n",
    "            clf.fit(X[train], y[train])\n",
    "            k_train_scores[j] = clf.score(X[train], y[train])\n",
    "            k_test_scores[j] = clf.score(X[test], y[test])\n",
    "            j += 1\n",
    "\n",
    "        # store the mean of the K fold scores\n",
    "        train_scores[i] = np.mean(k_train_scores)\n",
    "        test_scores[i] = np.mean(k_test_scores)\n",
    "        print(param_name, '=', param_value, \"Train =\", train_scores[i], \"Test =\", test_scores[i])\n",
    "\n",
    "    # plot the training and testing scores in a log scale\n",
    "    plt.semilogx(param_values, train_scores, label='Train', alpha=0.4, lw=2, c='b')\n",
    "    plt.semilogx(param_values, test_scores, label='X-Val', alpha=0.4, lw=2, c='g')\n",
    "    plt.legend(loc=7)\n",
    "    plt.xlabel(param_name + \" values\")\n",
    "    plt.ylabel(\"Mean cross validation accuracy\")\n",
    "\n",
    "    # return the training and testing scores on each parameter value\n",
    "    return train_scores, test_scores"
   ]
  },
  {
   "cell_type": "code",
   "execution_count": 59,
   "metadata": {
    "colab": {
     "base_uri": "https://localhost:8080/",
     "height": 1000
    },
    "id": "wLzH0EOhv_hL",
    "outputId": "44087576-5333-4dd1-b83a-178916e22c33"
   },
   "outputs": [
    {
     "name": "stdout",
     "output_type": "stream",
     "text": [
      "[0.64380599 0.65183812 0.63844252 0.64709518 0.6474042 ]\n",
      "Mean score: 0.646 (+/-0.002)\n",
      "svc__C = 1 Train = 0.8691910760787434 Test = 0.6457172037011792\n",
      "svc__C = 5 Train = 0.9716042697368998 Test = 0.6154980862882928\n",
      "svc__C = 10 Train = 0.9832838954239428 Test = 0.6112343450057718\n",
      "svc__C = 50 Train = 0.9927697515490109 Test = 0.5855270086717508\n",
      "svc__C = 100 Train = 0.9942528757031391 Test = 0.57990344949256\n",
      "Fitting 3 folds for each of 20 candidates, totalling 60 fits\n",
      "[CV] END .........................svc__C=1, svc__gamma=0.001; total time=  23.5s\n",
      "[CV] END .........................svc__C=1, svc__gamma=0.001; total time=  22.6s\n",
      "[CV] END .........................svc__C=1, svc__gamma=0.001; total time=  21.6s\n",
      "[CV] END ..........................svc__C=1, svc__gamma=0.01; total time=  23.6s\n",
      "[CV] END ..........................svc__C=1, svc__gamma=0.01; total time=  23.4s\n",
      "[CV] END ..........................svc__C=1, svc__gamma=0.01; total time=  24.0s\n",
      "[CV] END ...........................svc__C=1, svc__gamma=0.1; total time=  24.4s\n",
      "[CV] END ...........................svc__C=1, svc__gamma=0.1; total time=  22.1s\n",
      "[CV] END ...........................svc__C=1, svc__gamma=0.1; total time=  21.2s\n",
      "[CV] END ...........................svc__C=1, svc__gamma=1.0; total time=  21.8s\n",
      "[CV] END ...........................svc__C=1, svc__gamma=1.0; total time=  24.9s\n",
      "[CV] END ...........................svc__C=1, svc__gamma=1.0; total time=  24.6s\n",
      "[CV] END .........................svc__C=5, svc__gamma=0.001; total time=  21.7s\n",
      "[CV] END .........................svc__C=5, svc__gamma=0.001; total time=  22.7s\n",
      "[CV] END .........................svc__C=5, svc__gamma=0.001; total time=  23.3s\n",
      "[CV] END ..........................svc__C=5, svc__gamma=0.01; total time=  21.8s\n",
      "[CV] END ..........................svc__C=5, svc__gamma=0.01; total time=  21.9s\n",
      "[CV] END ..........................svc__C=5, svc__gamma=0.01; total time=  22.4s\n",
      "[CV] END ...........................svc__C=5, svc__gamma=0.1; total time=  22.7s\n",
      "[CV] END ...........................svc__C=5, svc__gamma=0.1; total time=  21.6s\n",
      "[CV] END ...........................svc__C=5, svc__gamma=0.1; total time=  23.1s\n",
      "[CV] END ...........................svc__C=5, svc__gamma=1.0; total time=  27.7s\n",
      "[CV] END ...........................svc__C=5, svc__gamma=1.0; total time=  28.4s\n",
      "[CV] END ...........................svc__C=5, svc__gamma=1.0; total time=  27.5s\n",
      "[CV] END ........................svc__C=10, svc__gamma=0.001; total time=  23.1s\n",
      "[CV] END ........................svc__C=10, svc__gamma=0.001; total time=  22.6s\n",
      "[CV] END ........................svc__C=10, svc__gamma=0.001; total time=  20.3s\n",
      "[CV] END .........................svc__C=10, svc__gamma=0.01; total time=  20.7s\n",
      "[CV] END .........................svc__C=10, svc__gamma=0.01; total time=  20.5s\n",
      "[CV] END .........................svc__C=10, svc__gamma=0.01; total time=  21.6s\n",
      "[CV] END ..........................svc__C=10, svc__gamma=0.1; total time=  22.8s\n",
      "[CV] END ..........................svc__C=10, svc__gamma=0.1; total time=  23.4s\n",
      "[CV] END ..........................svc__C=10, svc__gamma=0.1; total time=  23.7s\n",
      "[CV] END ..........................svc__C=10, svc__gamma=1.0; total time=  27.1s\n",
      "[CV] END ..........................svc__C=10, svc__gamma=1.0; total time=  24.9s\n",
      "[CV] END ..........................svc__C=10, svc__gamma=1.0; total time=  23.5s\n",
      "[CV] END ........................svc__C=50, svc__gamma=0.001; total time=  19.5s\n",
      "[CV] END ........................svc__C=50, svc__gamma=0.001; total time=  20.2s\n",
      "[CV] END ........................svc__C=50, svc__gamma=0.001; total time=  22.0s\n",
      "[CV] END .........................svc__C=50, svc__gamma=0.01; total time=  18.5s\n",
      "[CV] END .........................svc__C=50, svc__gamma=0.01; total time=  18.6s\n",
      "[CV] END .........................svc__C=50, svc__gamma=0.01; total time=  19.7s\n",
      "[CV] END ..........................svc__C=50, svc__gamma=0.1; total time=  24.9s\n",
      "[CV] END ..........................svc__C=50, svc__gamma=0.1; total time=  25.0s\n",
      "[CV] END ..........................svc__C=50, svc__gamma=0.1; total time=  24.3s\n",
      "[CV] END ..........................svc__C=50, svc__gamma=1.0; total time=  28.2s\n",
      "[CV] END ..........................svc__C=50, svc__gamma=1.0; total time=  28.5s\n",
      "[CV] END ..........................svc__C=50, svc__gamma=1.0; total time=  23.9s\n",
      "[CV] END .......................svc__C=100, svc__gamma=0.001; total time=  22.7s\n",
      "[CV] END .......................svc__C=100, svc__gamma=0.001; total time=  21.9s\n",
      "[CV] END .......................svc__C=100, svc__gamma=0.001; total time=  21.3s\n",
      "[CV] END ........................svc__C=100, svc__gamma=0.01; total time=  23.9s\n",
      "[CV] END ........................svc__C=100, svc__gamma=0.01; total time=  26.2s\n",
      "[CV] END ........................svc__C=100, svc__gamma=0.01; total time=  22.7s\n",
      "[CV] END .........................svc__C=100, svc__gamma=0.1; total time=  29.2s\n",
      "[CV] END .........................svc__C=100, svc__gamma=0.1; total time=  27.6s\n",
      "[CV] END .........................svc__C=100, svc__gamma=0.1; total time=  26.2s\n",
      "[CV] END .........................svc__C=100, svc__gamma=1.0; total time=  29.0s\n",
      "[CV] END .........................svc__C=100, svc__gamma=1.0; total time=  29.0s\n",
      "[CV] END .........................svc__C=100, svc__gamma=1.0; total time=  30.0s\n"
     ]
    },
    {
     "ename": "NameError",
     "evalue": "name 'accuracy_score' is not defined",
     "output_type": "error",
     "traceback": [
      "\u001b[1;31m---------------------------------------------------------------------------\u001b[0m",
      "\u001b[1;31mNameError\u001b[0m                                 Traceback (most recent call last)",
      "\u001b[1;32m~\\AppData\\Local\\Temp/ipykernel_15560/4011627895.py\u001b[0m in \u001b[0;36m<module>\u001b[1;34m\u001b[0m\n\u001b[0;32m     65\u001b[0m \u001b[1;33m\u001b[0m\u001b[0m\n\u001b[0;32m     66\u001b[0m \u001b[1;31m# Additional metric evaluations\u001b[0m\u001b[1;33m\u001b[0m\u001b[1;33m\u001b[0m\u001b[0m\n\u001b[1;32m---> 67\u001b[1;33m \u001b[0maccuracy\u001b[0m \u001b[1;33m=\u001b[0m \u001b[0maccuracy_score\u001b[0m\u001b[1;33m(\u001b[0m\u001b[0my_test\u001b[0m\u001b[1;33m,\u001b[0m \u001b[0msvc_pred\u001b[0m\u001b[1;33m)\u001b[0m\u001b[1;33m\u001b[0m\u001b[1;33m\u001b[0m\u001b[0m\n\u001b[0m\u001b[0;32m     68\u001b[0m \u001b[0mprecision\u001b[0m \u001b[1;33m=\u001b[0m \u001b[0mprecision_score\u001b[0m\u001b[1;33m(\u001b[0m\u001b[0my_test\u001b[0m\u001b[1;33m,\u001b[0m \u001b[0msvc_pred\u001b[0m\u001b[1;33m,\u001b[0m \u001b[0maverage\u001b[0m\u001b[1;33m=\u001b[0m\u001b[1;34m'weighted'\u001b[0m\u001b[1;33m)\u001b[0m\u001b[1;33m\u001b[0m\u001b[1;33m\u001b[0m\u001b[0m\n\u001b[0;32m     69\u001b[0m \u001b[0mrecall\u001b[0m \u001b[1;33m=\u001b[0m \u001b[0mrecall_score\u001b[0m\u001b[1;33m(\u001b[0m\u001b[0my_test\u001b[0m\u001b[1;33m,\u001b[0m \u001b[0msvc_pred\u001b[0m\u001b[1;33m,\u001b[0m \u001b[0maverage\u001b[0m\u001b[1;33m=\u001b[0m\u001b[1;34m'weighted'\u001b[0m\u001b[1;33m)\u001b[0m\u001b[1;33m\u001b[0m\u001b[1;33m\u001b[0m\u001b[0m\n",
      "\u001b[1;31mNameError\u001b[0m: name 'accuracy_score' is not defined"
     ]
    },
    {
     "data": {
      "image/png": "[encoded data removed]",
      "text/plain": [
       "<Figure size 432x288 with 1 Axes>"
      ]
     },
     "metadata": {
      "needs_background": "light"
     },
     "output_type": "display_data"
    }
   ],
   "source": [
    "# Reading the sentences without the prediction feature.\n",
    "#print(df)\n",
    "features = df['stem']\n",
    "# Only the column we want to predict\n",
    "labels = df['Sentiment']\n",
    "\n",
    "# dividing dataSet into training and testing with random state value\n",
    "# 20% testing dataset and 80% training dataset\n",
    "test_size = 0.2\n",
    "seed = 11\n",
    "x_train, x_test, y_train, y_test = train_test_split(features, labels, test_size=test_size,\n",
    "random_state=seed)\n",
    "\n",
    "# import support vector classifier\n",
    "# \"Support Vector Classifier\"\n",
    "\n",
    "\n",
    "# Create feature vectors\n",
    "vectorizer = TfidfVectorizer(min_df = 3,\n",
    "                             max_df = 0.8,\n",
    "                             sublinear_tf = True,\n",
    "                             use_idf = True)\n",
    "\n",
    "train_vectors = vectorizer.fit_transform(x_train)\n",
    "test_vectors = vectorizer.transform(x_test)\n",
    "# Lets' set up a pipeline to perform preprocessng of the roman urdu data and\n",
    "# classification of the documents using SVM\n",
    "# Perform classification with SVM, kernel=linear\n",
    "\n",
    "classifier_linear = Pipeline([\n",
    "    ('vect', TfidfVectorizer()),\n",
    "    ('svc', SVC(kernel='linear')),\n",
    "])\n",
    "# SVM without tunning\n",
    "# calling evaluate_cross_validation function to perform k fold cross validation on training dataset\n",
    "# using SVM kernel = linear\n",
    "evaluate_cross_validation(classifier_linear, x_train, y_train, 5)\n",
    "# tunning parameter\n",
    "c_vals = [1, 5, 10, 50, 100]\n",
    "\n",
    "# calling calc_params function from above\n",
    "\n",
    "train_scores, test_scores = calc_params(x_train, y_train, classifier_linear, c_vals, 'svc__C', 5)\n",
    "\n",
    "\n",
    "parameters = {\n",
    "    'svc__gamma': np.logspace(-3, 0, 4),\n",
    "    'svc__C': [1, 5, 10, 50, 100],\n",
    "}\n",
    "# using kernel =rbf\n",
    "clf = Pipeline([\n",
    "    ('vect', TfidfVectorizer()),\n",
    "    ('svc', SVC(kernel='rbf')),\n",
    "])\n",
    "gs = GridSearchCV(clf, parameters, verbose=2, cv=3)\n",
    "gs.fit(x_train, y_train)\n",
    "gs.best_params_, gs.best_score_\n",
    "# using kernel=rbf with C=100 and gamma = 0.01\n",
    "classifier_rbf = Pipeline([\n",
    "    ('vect', TfidfVectorizer()),\n",
    "    ('svc', SVC(kernel='rbf', C=100, gamma=0.01)),\n",
    "])\n",
    "classifier_rbf.fit(x_train, y_train)\n",
    "svc_pred = classifier_rbf.predict(x_test)\n",
    "\n",
    "# Additional metric evaluations\n"
   ]
  },
  {
   "cell_type": "code",
   "execution_count": 61,
   "metadata": {},
   "outputs": [
    {
     "name": "stdout",
     "output_type": "stream",
     "text": [
      "Accuracy: 0.646\n",
      "Precision: 0.644\n",
      "Recall: 0.646\n",
      "F1 Score: 0.644\n"
     ]
    },
    {
     "data": {
      "image/png": "[encoded data removed]",
      "text/plain": [
       "<Figure size 576x432 with 2 Axes>"
      ]
     },
     "metadata": {
      "needs_background": "light"
     },
     "output_type": "display_data"
    },
    {
     "name": "stdout",
     "output_type": "stream",
     "text": [
      "Classification Report:\n",
      "              precision    recall  f1-score   support\n",
      "\n",
      "    Negative       0.60      0.53      0.56      1059\n",
      "     Neutral       0.67      0.74      0.70      1811\n",
      "    Positive       0.65      0.61      0.63      1176\n",
      "\n",
      "    accuracy                           0.65      4046\n",
      "   macro avg       0.64      0.63      0.63      4046\n",
      "weighted avg       0.64      0.65      0.64      4046\n",
      "\n"
     ]
    }
   ],
   "source": [
    "accuracy = accuracy_score(y_test, svc_pred)\n",
    "precision = precision_score(y_test, svc_pred, average='weighted')\n",
    "recall = recall_score(y_test, svc_pred, average='weighted')\n",
    "f1 = f1_score(y_test, svc_pred, average='weighted')\n",
    "\n",
    "print(f'Accuracy: {accuracy:.3f}')\n",
    "print(f'Precision: {precision:.3f}')\n",
    "print(f'Recall: {recall:.3f}')\n",
    "print(f'F1 Score: {f1:.3f}')\n",
    "\n",
    "# Plot a confusion matrix heatmap\n",
    "conf_matrix = confusion_matrix(y_test, svc_pred)\n",
    "plt.figure(figsize=(8, 6))\n",
    "sns.heatmap(conf_matrix, annot=True, fmt='d', cmap='Blues', xticklabels=['Negative', 'Neutral', 'Positive'], yticklabels=['Negative', 'Neutral', 'Positive'])\n",
    "plt.title('Confusion Matrix')\n",
    "plt.xlabel('Predicted')\n",
    "plt.ylabel('True')\n",
    "plt.show()\n",
    "\n",
    "# Print classification report\n",
    "print(\"Classification Report:\")\n",
    "print(classification_report(y_test, svc_pred))"
   ]
  },
  {
   "cell_type": "code",
   "execution_count": null,
   "metadata": {
    "id": "jsLfJ-ZXwmCW"
   },
   "outputs": [],
   "source": []
  }
 ],
 "metadata": {
  "accelerator": "GPU",
  "colab": {
   "gpuType": "T4",
   "provenance": []
  },
  "kernelspec": {
   "display_name": "Python 3 (ipykernel)",
   "language": "python",
   "name": "python3"
  },
  "language_info": {
   "codemirror_mode": {
    "name": "ipython",
    "version": 3
   },
   "file_extension": ".py",
   "mimetype": "text/x-python",
   "name": "python",
   "nbconvert_exporter": "python",
   "pygments_lexer": "ipython3",
   "version": "3.9.7"
  }
 },
 "nbformat": 4,
 "nbformat_minor": 1
}
